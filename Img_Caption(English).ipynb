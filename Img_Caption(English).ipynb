{
 "cells": [
  {
   "cell_type": "markdown",
   "metadata": {
    "id": "7ITLmfzZ-rjr"
   },
   "source": [
    "## **Importing Libraries**"
   ]
  },
  {
   "cell_type": "code",
   "execution_count": 2,
   "metadata": {
    "executionInfo": {
     "elapsed": 2896,
     "status": "ok",
     "timestamp": 1674981529323,
     "user": {
      "displayName": "BE Project",
      "userId": "01387424920775928334"
     },
     "user_tz": -330
    },
    "id": "M8km51ao49Mt"
   },
   "outputs": [],
   "source": [
    "import numpy as np\n",
    "import pandas as pd\n",
    "\n",
    "import os\n",
    "import pickle\n",
    "from tqdm.notebook import tqdm\n",
    "import string\n",
    "\n",
    "from tensorflow.keras.applications.vgg16 import VGG16, preprocess_input\n",
    "from tensorflow.keras.preprocessing.image import load_img, img_to_array\n",
    "from tensorflow.keras.preprocessing.text import Tokenizer\n",
    "from tensorflow.keras.preprocessing.sequence import pad_sequences\n",
    "from tensorflow.keras.models import Model\n",
    "from tensorflow.keras.utils import to_categorical, plot_model\n",
    "from tensorflow.keras.layers import Input, Dense, LSTM, Embedding, Dropout, add\n",
    "from tensorflow.keras.models import load_model"
   ]
  },
  {
   "cell_type": "code",
   "execution_count": 3,
   "metadata": {
    "executionInfo": {
     "elapsed": 488,
     "status": "ok",
     "timestamp": 1674981534637,
     "user": {
      "displayName": "BE Project",
      "userId": "01387424920775928334"
     },
     "user_tz": -330
    },
    "id": "lMKhEHOl8BLJ"
   },
   "outputs": [],
   "source": [
    "R_DIR=os.getcwd()\n",
    "BASE_DIR = os.path.join(R_DIR, 'Dataset')\n",
    "WORKING_DIR = os.path.join(R_DIR, 'Models')"
   ]
  },
  {
   "cell_type": "markdown",
   "metadata": {
    "id": "8Et0gcpu_Vww"
   },
   "source": [
    "## **Extracting Features from Images**"
   ]
  },
  {
   "cell_type": "code",
   "execution_count": null,
   "metadata": {
    "colab": {
     "base_uri": "https://localhost:8080/"
    },
    "executionInfo": {
     "elapsed": 8043,
     "status": "ok",
     "timestamp": 1665062473020,
     "user": {
      "displayName": "BE Project",
      "userId": "01387424920775928334"
     },
     "user_tz": -330
    },
    "id": "8L4rBZrh8n5w",
    "outputId": "da71d274-eace-4dd8-9709-bdc631eb0194"
   },
   "outputs": [
    {
     "name": "stdout",
     "output_type": "stream",
     "text": [
      "Downloading data from https://storage.googleapis.com/tensorflow/keras-applications/vgg16/vgg16_weights_tf_dim_ordering_tf_kernels.h5\n",
      "553467904/553467096 [==============================] - 3s 0us/step\n",
      "553476096/553467096 [==============================] - 3s 0us/step\n",
      "Model: \"model\"\n",
      "_________________________________________________________________\n",
      " Layer (type)                Output Shape              Param #   \n",
      "=================================================================\n",
      " input_1 (InputLayer)        [(None, 224, 224, 3)]     0         \n",
      "                                                                 \n",
      " block1_conv1 (Conv2D)       (None, 224, 224, 64)      1792      \n",
      "                                                                 \n",
      " block1_conv2 (Conv2D)       (None, 224, 224, 64)      36928     \n",
      "                                                                 \n",
      " block1_pool (MaxPooling2D)  (None, 112, 112, 64)      0         \n",
      "                                                                 \n",
      " block2_conv1 (Conv2D)       (None, 112, 112, 128)     73856     \n",
      "                                                                 \n",
      " block2_conv2 (Conv2D)       (None, 112, 112, 128)     147584    \n",
      "                                                                 \n",
      " block2_pool (MaxPooling2D)  (None, 56, 56, 128)       0         \n",
      "                                                                 \n",
      " block3_conv1 (Conv2D)       (None, 56, 56, 256)       295168    \n",
      "                                                                 \n",
      " block3_conv2 (Conv2D)       (None, 56, 56, 256)       590080    \n",
      "                                                                 \n",
      " block3_conv3 (Conv2D)       (None, 56, 56, 256)       590080    \n",
      "                                                                 \n",
      " block3_pool (MaxPooling2D)  (None, 28, 28, 256)       0         \n",
      "                                                                 \n",
      " block4_conv1 (Conv2D)       (None, 28, 28, 512)       1180160   \n",
      "                                                                 \n",
      " block4_conv2 (Conv2D)       (None, 28, 28, 512)       2359808   \n",
      "                                                                 \n",
      " block4_conv3 (Conv2D)       (None, 28, 28, 512)       2359808   \n",
      "                                                                 \n",
      " block4_pool (MaxPooling2D)  (None, 14, 14, 512)       0         \n",
      "                                                                 \n",
      " block5_conv1 (Conv2D)       (None, 14, 14, 512)       2359808   \n",
      "                                                                 \n",
      " block5_conv2 (Conv2D)       (None, 14, 14, 512)       2359808   \n",
      "                                                                 \n",
      " block5_conv3 (Conv2D)       (None, 14, 14, 512)       2359808   \n",
      "                                                                 \n",
      " block5_pool (MaxPooling2D)  (None, 7, 7, 512)         0         \n",
      "                                                                 \n",
      " flatten (Flatten)           (None, 25088)             0         \n",
      "                                                                 \n",
      " fc1 (Dense)                 (None, 4096)              102764544 \n",
      "                                                                 \n",
      " fc2 (Dense)                 (None, 4096)              16781312  \n",
      "                                                                 \n",
      "=================================================================\n",
      "Total params: 134,260,544\n",
      "Trainable params: 134,260,544\n",
      "Non-trainable params: 0\n",
      "_________________________________________________________________\n",
      "None\n"
     ]
    }
   ],
   "source": [
    "# load vgg16 model\n",
    "model = VGG16()\n",
    "# restructure the model\n",
    "model = Model(inputs=model.inputs, outputs=model.layers[-2].output)\n",
    "print(model.summary())"
   ]
  },
  {
   "cell_type": "code",
   "execution_count": null,
   "metadata": {
    "id": "wTiaFSU88t9O"
   },
   "outputs": [],
   "source": [
    "# extract features from image\n",
    "features = {}\n",
    "directory = os.path.join(BASE_DIR, 'Images')\n",
    "\n",
    "for img_name in tqdm(os.listdir(directory)):\n",
    "    # load image\n",
    "    img_path = directory + '/' + img_name\n",
    "    image = load_img(img_path, target_size=(224, 224))\n",
    "    # convert image pixels to numpy array\n",
    "    image = img_to_array(image)\n",
    "    # reshape data for model\n",
    "    image = image.reshape((1, image.shape[0], image.shape[1], image.shape[2]))\n",
    "    # preprocess image for vgg\n",
    "    image = preprocess_input(image)\n",
    "    # extract features\n",
    "    feature = model.predict(image, verbose=0)\n",
    "    # get image ID (file img non .jpg)\n",
    "    image_id = img_name.split('.')[0]\n",
    "    \n",
    "    features[image_id] = feature"
   ]
  },
  {
   "cell_type": "code",
   "execution_count": null,
   "metadata": {
    "id": "F1BfOhneTRNg"
   },
   "outputs": [],
   "source": [
    "# Store features in pickle\n",
    "pickle.dump(features, open(os.path.join(WORKING_DIR, 'features.pkl'), 'wb'))"
   ]
  },
  {
   "cell_type": "code",
   "execution_count": null,
   "metadata": {
    "id": "0DBuUNe5T1pI"
   },
   "outputs": [],
   "source": [
    "# load features from pickle\n",
    "with open(os.path.join(WORKING_DIR, 'features.pkl'), 'rb') as f:\n",
    "  features = pickle.load(f)"
   ]
  },
  {
   "cell_type": "markdown",
   "metadata": {
    "id": "qs6SauYP_pG3"
   },
   "source": [
    "## **Processing Caption Data**"
   ]
  },
  {
   "cell_type": "code",
   "execution_count": null,
   "metadata": {
    "id": "-d4d39PA-Xhb"
   },
   "outputs": [],
   "source": [
    "with open(os.path.join(BASE_DIR, 'English_captions.txt'), 'r') as f:\n",
    "    next(f)\n",
    "    captions_doc = f.read()"
   ]
  },
  {
   "cell_type": "code",
   "execution_count": null,
   "metadata": {
    "colab": {
     "base_uri": "https://localhost:8080/",
     "height": 49,
     "referenced_widgets": [
      "3d6915cd101541329088832519df9d0d",
      "2e3403b64a00412187f55114849ff779",
      "0319eb566e2c479b945c29b17c5921c7",
      "1bf1784ffa104275a28b2597a444301d",
      "3450081282e64601aa0d1c976a46e482",
      "f884baf9b4794ce592df84e8f5117bbc",
      "c30ce90e9be34e52939c445602e8c489",
      "464ef9a6d542426fbc4f2c71b3282020",
      "e19b6fa5d7fd4cceb2e8fa300f84be9b",
      "08f739d419ca4965b2ea9605eb9a3c28",
      "d76176e4183b449587ca120b979ab07e"
     ]
    },
    "executionInfo": {
     "elapsed": 23,
     "status": "ok",
     "timestamp": 1665062570237,
     "user": {
      "displayName": "BE Project",
      "userId": "01387424920775928334"
     },
     "user_tz": -330
    },
    "id": "D_lvezUW-p99",
    "outputId": "02be9b0c-667a-4c5f-e5cf-0735f45a803a"
   },
   "outputs": [
    {
     "data": {
      "application/vnd.jupyter.widget-view+json": {
       "model_id": "3d6915cd101541329088832519df9d0d",
       "version_major": 2,
       "version_minor": 0
      },
      "text/plain": [
       "  0%|          | 0/40456 [00:00<?, ?it/s]"
      ]
     },
     "metadata": {},
     "output_type": "display_data"
    }
   ],
   "source": [
    "# create mapping of image to captions\n",
    "mapping = {}\n",
    "# process lines\n",
    "for line in tqdm(captions_doc.split('\\n')):\n",
    "    # split the line by comma(,)\n",
    "    tokens = line.split(',')\n",
    "    if len(line) < 2:\n",
    "        continue\n",
    "    image_id, caption = tokens[0], tokens[1:]\n",
    "    # remove extension from image ID\n",
    "    image_id = image_id.split('.')[0]\n",
    "    # convert caption list to string\n",
    "    caption = \" \".join(caption)\n",
    "    # create list if needed\n",
    "    if image_id not in mapping:\n",
    "        mapping[image_id] = []\n",
    "    # store the caption\n",
    "    mapping[image_id].append(caption)"
   ]
  },
  {
   "cell_type": "code",
   "execution_count": null,
   "metadata": {
    "colab": {
     "base_uri": "https://localhost:8080/"
    },
    "executionInfo": {
     "elapsed": 4,
     "status": "ok",
     "timestamp": 1664969819550,
     "user": {
      "displayName": "BE Project",
      "userId": "01387424920775928334"
     },
     "user_tz": -330
    },
    "id": "FEUvHgTr-sIW",
    "outputId": "b63ffc20-cfbc-4b48-8a03-b794cf80c58d"
   },
   "outputs": [
    {
     "data": {
      "text/plain": [
       "8091"
      ]
     },
     "execution_count": 7,
     "metadata": {},
     "output_type": "execute_result"
    }
   ],
   "source": [
    "len(mapping)"
   ]
  },
  {
   "cell_type": "markdown",
   "metadata": {
    "id": "x7tKeSWI_1e-"
   },
   "source": [
    "**Preprocessing Text data**"
   ]
  },
  {
   "cell_type": "code",
   "execution_count": null,
   "metadata": {
    "id": "qX7nIgiFQJLd"
   },
   "outputs": [],
   "source": [
    "def clean(mapping):\n",
    "    for key, captions in mapping.items():\n",
    "        for i in range(len(captions)):\n",
    "            # take one caption at a time\n",
    "            caption = captions[i]\n",
    "            # preprocessing steps\n",
    "            # convert to lowercase\n",
    "            caption = caption.lower()\n",
    "            # replacing \".\" with \" । \"\n",
    "            caption = caption.replace('.', '।')\n",
    "            # delete digits, special chars, etc., \n",
    "            caption = caption.replace('[^A-Za-z]', '')\n",
    "            # delete additional spaces\n",
    "            caption = caption.replace('\\s+', ' ')\n",
    "            # add start and end tags to the caption\n",
    "            caption = 'startseq ' + \" \".join([word for word in caption.split() if len(word)>1]) + ' endseq'\n",
    "            captions[i] = caption"
   ]
  },
  {
   "cell_type": "code",
   "execution_count": null,
   "metadata": {
    "id": "zsvOaj1MOHBO"
   },
   "outputs": [],
   "source": [
    "# preprocess the text\n",
    "clean(mapping)"
   ]
  },
  {
   "cell_type": "code",
   "execution_count": null,
   "metadata": {
    "id": "HfOH669pRkLm"
   },
   "outputs": [],
   "source": [
    "all_captions = []\n",
    "for key in mapping:\n",
    "    for caption in mapping[key]:\n",
    "        all_captions.append(caption)"
   ]
  },
  {
   "cell_type": "code",
   "execution_count": null,
   "metadata": {
    "colab": {
     "base_uri": "https://localhost:8080/"
    },
    "executionInfo": {
     "elapsed": 7,
     "status": "ok",
     "timestamp": 1664969824723,
     "user": {
      "displayName": "BE Project",
      "userId": "01387424920775928334"
     },
     "user_tz": -330
    },
    "id": "Rg_tReZTR01a",
    "outputId": "c52f6360-e9fa-4bd5-f760-b565a6d74ca0"
   },
   "outputs": [
    {
     "data": {
      "text/plain": [
       "40455"
      ]
     },
     "execution_count": 11,
     "metadata": {},
     "output_type": "execute_result"
    }
   ],
   "source": [
    "len(all_captions)"
   ]
  },
  {
   "cell_type": "code",
   "execution_count": null,
   "metadata": {
    "colab": {
     "base_uri": "https://localhost:8080/"
    },
    "executionInfo": {
     "elapsed": 917,
     "status": "ok",
     "timestamp": 1665062587941,
     "user": {
      "displayName": "BE Project",
      "userId": "01387424920775928334"
     },
     "user_tz": -330
    },
    "id": "A-Caml2AR-mF",
    "outputId": "11552ec5-07a0-4fc5-ad40-99ecc638d726"
   },
   "outputs": [
    {
     "data": {
      "text/plain": [
       "['startseq child in pink dress is climbing up set of stairs in an entry way endseq',\n",
       " 'startseq girl going into wooden building endseq',\n",
       " 'startseq little girl climbing into wooden playhouse endseq']"
      ]
     },
     "execution_count": 11,
     "metadata": {},
     "output_type": "execute_result"
    }
   ],
   "source": [
    "all_captions[:3]"
   ]
  },
  {
   "cell_type": "code",
   "execution_count": null,
   "metadata": {
    "id": "iR23xy8BSEHv"
   },
   "outputs": [],
   "source": [
    "# tokenize the text\n",
    "tokenizer = Tokenizer()\n",
    "tokenizer.fit_on_texts(all_captions)\n",
    "vocab_size = len(tokenizer.word_index) + 1"
   ]
  },
  {
   "cell_type": "code",
   "execution_count": null,
   "metadata": {
    "colab": {
     "base_uri": "https://localhost:8080/"
    },
    "executionInfo": {
     "elapsed": 7,
     "status": "ok",
     "timestamp": 1665062593745,
     "user": {
      "displayName": "BE Project",
      "userId": "01387424920775928334"
     },
     "user_tz": -330
    },
    "id": "aUWlOjiSiGzO",
    "outputId": "a826e420-b7a8-4400-acf8-dec8354c915a"
   },
   "outputs": [
    {
     "data": {
      "text/plain": [
       "35"
      ]
     },
     "execution_count": 13,
     "metadata": {},
     "output_type": "execute_result"
    }
   ],
   "source": [
    "# get maximum length of the caption available\n",
    "max_length = max(len(caption.split()) for caption in all_captions)\n",
    "max_length"
   ]
  },
  {
   "cell_type": "markdown",
   "metadata": {
    "id": "tR5egCysAR4H"
   },
   "source": [
    "## **Training Model**"
   ]
  },
  {
   "cell_type": "code",
   "execution_count": null,
   "metadata": {
    "id": "ZMRw3RLtSXeg"
   },
   "outputs": [],
   "source": [
    "image_ids = list(mapping.keys())\n",
    "split = int(len(image_ids) * 0.80)\n",
    "train = image_ids[:split]\n",
    "test = image_ids[split:]"
   ]
  },
  {
   "cell_type": "code",
   "execution_count": null,
   "metadata": {
    "id": "h4NKAjQVVtYV"
   },
   "outputs": [],
   "source": [
    "# create data generator to get data in batch (avoids session crash)\n",
    "def data_generator(data_keys, mapping, features, tokenizer, max_length, vocab_size, batch_size):\n",
    "    # loop over images\n",
    "    X1, X2, y = list(), list(), list()\n",
    "    n = 0\n",
    "    while 1:\n",
    "        for key in data_keys:\n",
    "            n += 1\n",
    "            captions = mapping[key]\n",
    "            # process each caption\n",
    "            for caption in captions:\n",
    "                # encode the sequence\n",
    "                seq = tokenizer.texts_to_sequences([caption])[0]\n",
    "                # split the sequence into X, y pairs\n",
    "                for i in range(1, len(seq)):\n",
    "                    # split into input and output pairs\n",
    "                    in_seq, out_seq = seq[:i], seq[i]\n",
    "                    # pad input sequence\n",
    "                    in_seq = pad_sequences([in_seq], maxlen=max_length)[0]\n",
    "                    # encode output sequence\n",
    "                    out_seq = to_categorical([out_seq], num_classes=vocab_size)[0]\n",
    "                    \n",
    "                    # store the sequences\n",
    "                    X1.append(features[key][0])\n",
    "                    X2.append(in_seq)\n",
    "                    y.append(out_seq)\n",
    "            if n == batch_size:\n",
    "                X1, X2, y = np.array(X1), np.array(X2), np.array(y)\n",
    "                yield [X1, X2], y\n",
    "                X1, X2, y = list(), list(), list()\n",
    "                n = 0"
   ]
  },
  {
   "cell_type": "code",
   "execution_count": null,
   "metadata": {
    "id": "pep3xGohWESZ"
   },
   "outputs": [],
   "source": [
    "# Encoder model\n",
    "inputs1 = Input(shape=(4096,))\n",
    "fe1 = Dropout(0.4)(inputs1)\n",
    "fe2 = Dense(256, activation='relu')(fe1)\n",
    "\n",
    "# Sequence feature layers\n",
    "inputs2 = Input(shape=(max_length,))\n",
    "se1 = Embedding(vocab_size, 256, mask_zero=True)(inputs2)\n",
    "se2 = Dropout(0.4)(se1)\n",
    "se3 = LSTM(256)(se2)\n",
    "\n",
    "# Decoder model\n",
    "decoder1 = add([fe2, se3])\n",
    "decoder2 = Dense(256, activation='relu')(decoder1)\n",
    "outputs = Dense(vocab_size, activation='softmax')(decoder2)\n",
    "\n",
    "model = Model(inputs=[inputs1, inputs2], outputs=outputs)\n",
    "model.compile(loss='categorical_crossentropy', optimizer='adam')\n"
   ]
  },
  {
   "cell_type": "code",
   "execution_count": null,
   "metadata": {
    "colab": {
     "base_uri": "https://localhost:8080/"
    },
    "executionInfo": {
     "elapsed": 913,
     "status": "ok",
     "timestamp": 1665062650214,
     "user": {
      "displayName": "BE Project",
      "userId": "01387424920775928334"
     },
     "user_tz": -330
    },
    "id": "WQw2n5-WG-aP",
    "outputId": "414e08a6-5337-494b-9c76-4d4041251ad5"
   },
   "outputs": [
    {
     "name": "stdout",
     "output_type": "stream",
     "text": [
      "Model: \"model_1\"\n",
      "__________________________________________________________________________________________________\n",
      " Layer (type)                   Output Shape         Param #     Connected to                     \n",
      "==================================================================================================\n",
      " input_3 (InputLayer)           [(None, 35)]         0           []                               \n",
      "                                                                                                  \n",
      " input_2 (InputLayer)           [(None, 4096)]       0           []                               \n",
      "                                                                                                  \n",
      " embedding (Embedding)          (None, 35, 256)      2171392     ['input_3[0][0]']                \n",
      "                                                                                                  \n",
      " dropout (Dropout)              (None, 4096)         0           ['input_2[0][0]']                \n",
      "                                                                                                  \n",
      " dropout_1 (Dropout)            (None, 35, 256)      0           ['embedding[0][0]']              \n",
      "                                                                                                  \n",
      " dense (Dense)                  (None, 256)          1048832     ['dropout[0][0]']                \n",
      "                                                                                                  \n",
      " lstm (LSTM)                    (None, 256)          525312      ['dropout_1[0][0]']              \n",
      "                                                                                                  \n",
      " add (Add)                      (None, 256)          0           ['dense[0][0]',                  \n",
      "                                                                  'lstm[0][0]']                   \n",
      "                                                                                                  \n",
      " dense_1 (Dense)                (None, 256)          65792       ['add[0][0]']                    \n",
      "                                                                                                  \n",
      " dense_2 (Dense)                (None, 8482)         2179874     ['dense_1[0][0]']                \n",
      "                                                                                                  \n",
      "==================================================================================================\n",
      "Total params: 5,991,202\n",
      "Trainable params: 5,991,202\n",
      "Non-trainable params: 0\n",
      "__________________________________________________________________________________________________\n"
     ]
    }
   ],
   "source": [
    "model.summary()"
   ]
  },
  {
   "cell_type": "code",
   "execution_count": null,
   "metadata": {
    "colab": {
     "base_uri": "https://localhost:8080/",
     "height": 701
    },
    "executionInfo": {
     "elapsed": 17,
     "status": "ok",
     "timestamp": 1665062653260,
     "user": {
      "displayName": "BE Project",
      "userId": "01387424920775928334"
     },
     "user_tz": -330
    },
    "id": "4X-KzazVjmnS",
    "outputId": "6feafb61-a26c-44b6-9843-4e05e781caec"
   },
   "outputs": [
    {
     "data": {
      "image/png": "[encoded data removed]",
      "text/plain": [
       "<IPython.core.display.Image object>"
      ]
     },
     "execution_count": 18,
     "metadata": {},
     "output_type": "execute_result"
    }
   ],
   "source": [
    "# Plot the model\n",
    "plot_model(model, show_layer_activations=True)"
   ]
  },
  {
   "cell_type": "code",
   "execution_count": null,
   "metadata": {
    "colab": {
     "base_uri": "https://localhost:8080/"
    },
    "executionInfo": {
     "elapsed": 2576427,
     "status": "ok",
     "timestamp": 1664516850450,
     "user": {
      "displayName": "BE Project",
      "userId": "01387424920775928334"
     },
     "user_tz": -330
    },
    "id": "MbKwAYNhe0GV",
    "outputId": "1e737649-e86e-4179-8e55-d5ce39e6e3a0"
   },
   "outputs": [
    {
     "name": "stdout",
     "output_type": "stream",
     "text": [
      "Epoch 1/100\n",
      "404/404 [==============================] - 93s 213ms/step - loss: 0.0080 - accuracy: 0.0722\n",
      "Epoch 2/100\n",
      "404/404 [==============================] - 85s 209ms/step - loss: 7.0985e-04 - accuracy: 0.0845\n",
      "Epoch 3/100\n",
      "404/404 [==============================] - 86s 213ms/step - loss: 6.8399e-04 - accuracy: 0.0961\n",
      "Epoch 4/100\n",
      "404/404 [==============================] - 84s 208ms/step - loss: 6.6275e-04 - accuracy: 0.1127\n",
      "Epoch 5/100\n",
      "404/404 [==============================] - 86s 212ms/step - loss: 6.4912e-04 - accuracy: 0.1172\n",
      "Epoch 6/100\n",
      "404/404 [==============================] - 85s 210ms/step - loss: 6.2922e-04 - accuracy: 0.1258\n",
      "Epoch 7/100\n",
      "404/404 [==============================] - 85s 211ms/step - loss: 6.0551e-04 - accuracy: 0.1439\n",
      "Epoch 8/100\n",
      "404/404 [==============================] - 84s 208ms/step - loss: 5.7671e-04 - accuracy: 0.1808\n",
      "Epoch 9/100\n",
      "404/404 [==============================] - 86s 212ms/step - loss: 5.4864e-04 - accuracy: 0.2097\n",
      "Epoch 10/100\n",
      "404/404 [==============================] - 84s 208ms/step - loss: 5.2418e-04 - accuracy: 0.2340\n",
      "Epoch 11/100\n",
      "404/404 [==============================] - 85s 210ms/step - loss: 5.0203e-04 - accuracy: 0.2594\n",
      "Epoch 12/100\n",
      "404/404 [==============================] - 84s 208ms/step - loss: 4.8025e-04 - accuracy: 0.2845\n",
      "Epoch 13/100\n",
      "404/404 [==============================] - 85s 210ms/step - loss: 4.6203e-04 - accuracy: 0.3030\n",
      "Epoch 14/100\n",
      "404/404 [==============================] - 84s 208ms/step - loss: 4.4813e-04 - accuracy: 0.3175\n",
      "Epoch 15/100\n",
      "404/404 [==============================] - 83s 206ms/step - loss: 4.3669e-04 - accuracy: 0.3289\n",
      "Epoch 16/100\n",
      "404/404 [==============================] - 85s 210ms/step - loss: 4.2530e-04 - accuracy: 0.3396\n",
      "Epoch 17/100\n",
      "404/404 [==============================] - 83s 207ms/step - loss: 4.1506e-04 - accuracy: 0.3488\n",
      "Epoch 18/100\n",
      "404/404 [==============================] - 85s 210ms/step - loss: 4.0566e-04 - accuracy: 0.3563\n",
      "Epoch 19/100\n",
      "404/404 [==============================] - 83s 206ms/step - loss: 3.9664e-04 - accuracy: 0.3635\n",
      "Epoch 20/100\n",
      "404/404 [==============================] - 84s 209ms/step - loss: 3.8906e-04 - accuracy: 0.3703\n",
      "Epoch 21/100\n",
      "404/404 [==============================] - 83s 204ms/step - loss: 3.8187e-04 - accuracy: 0.3768\n",
      "Epoch 22/100\n",
      "404/404 [==============================] - 84s 207ms/step - loss: 3.7513e-04 - accuracy: 0.3828\n",
      "Epoch 23/100\n",
      "404/404 [==============================] - 83s 205ms/step - loss: 3.6872e-04 - accuracy: 0.3887\n",
      "Epoch 24/100\n",
      "404/404 [==============================] - 85s 211ms/step - loss: 3.6242e-04 - accuracy: 0.3948\n",
      "Epoch 25/100\n",
      "404/404 [==============================] - 83s 206ms/step - loss: 3.5680e-04 - accuracy: 0.4001\n",
      "Epoch 26/100\n",
      "404/404 [==============================] - 84s 208ms/step - loss: 3.5156e-04 - accuracy: 0.4064\n",
      "Epoch 27/100\n",
      "404/404 [==============================] - 85s 209ms/step - loss: 3.4647e-04 - accuracy: 0.4107\n",
      "Epoch 28/100\n",
      "404/404 [==============================] - 83s 205ms/step - loss: 3.4155e-04 - accuracy: 0.4168\n",
      "Epoch 29/100\n",
      "404/404 [==============================] - 83s 207ms/step - loss: 3.3709e-04 - accuracy: 0.4226\n",
      "Epoch 30/100\n",
      "404/404 [==============================] - 83s 205ms/step - loss: 3.3309e-04 - accuracy: 0.4278\n",
      "Epoch 31/100\n",
      "404/404 [==============================] - 84s 208ms/step - loss: 3.2892e-04 - accuracy: 0.4326\n",
      "Epoch 32/100\n",
      "404/404 [==============================] - 83s 205ms/step - loss: 3.2557e-04 - accuracy: 0.4370\n",
      "Epoch 33/100\n",
      "404/404 [==============================] - 84s 207ms/step - loss: 3.2242e-04 - accuracy: 0.4410\n",
      "Epoch 34/100\n",
      "404/404 [==============================] - 82s 203ms/step - loss: 3.1909e-04 - accuracy: 0.4455\n",
      "Epoch 35/100\n",
      "404/404 [==============================] - 83s 206ms/step - loss: 3.1623e-04 - accuracy: 0.4492\n",
      "Epoch 36/100\n",
      "404/404 [==============================] - 83s 204ms/step - loss: 3.1333e-04 - accuracy: 0.4532\n",
      "Epoch 37/100\n",
      "404/404 [==============================] - 84s 208ms/step - loss: 3.1060e-04 - accuracy: 0.4563\n",
      "Epoch 38/100\n",
      "404/404 [==============================] - 83s 206ms/step - loss: 3.0807e-04 - accuracy: 0.4605\n",
      "Epoch 39/100\n",
      "404/404 [==============================] - 82s 203ms/step - loss: 3.0530e-04 - accuracy: 0.4645\n",
      "Epoch 40/100\n",
      "404/404 [==============================] - 83s 205ms/step - loss: 3.0339e-04 - accuracy: 0.4670\n",
      "Epoch 41/100\n",
      "404/404 [==============================] - 82s 204ms/step - loss: 3.0096e-04 - accuracy: 0.4704\n",
      "Epoch 42/100\n",
      "404/404 [==============================] - 83s 206ms/step - loss: 2.9889e-04 - accuracy: 0.4733\n",
      "Epoch 43/100\n",
      "404/404 [==============================] - 82s 203ms/step - loss: 2.9647e-04 - accuracy: 0.4768\n",
      "Epoch 44/100\n",
      "404/404 [==============================] - 83s 206ms/step - loss: 2.9489e-04 - accuracy: 0.4788\n",
      "Epoch 45/100\n",
      "404/404 [==============================] - 82s 202ms/step - loss: 2.9274e-04 - accuracy: 0.4819\n",
      "Epoch 46/100\n",
      "404/404 [==============================] - 83s 206ms/step - loss: 2.9124e-04 - accuracy: 0.4840\n",
      "Epoch 47/100\n",
      "404/404 [==============================] - 83s 206ms/step - loss: 2.8952e-04 - accuracy: 0.4870\n",
      "Epoch 48/100\n",
      "404/404 [==============================] - 83s 206ms/step - loss: 2.8775e-04 - accuracy: 0.4896\n",
      "Epoch 49/100\n",
      "404/404 [==============================] - 82s 204ms/step - loss: 2.8597e-04 - accuracy: 0.4920\n",
      "Epoch 50/100\n",
      "404/404 [==============================] - 82s 204ms/step - loss: 2.8482e-04 - accuracy: 0.4939\n",
      "Epoch 51/100\n",
      "404/404 [==============================] - 83s 205ms/step - loss: 2.8370e-04 - accuracy: 0.4955\n",
      "Epoch 52/100\n",
      "404/404 [==============================] - 81s 202ms/step - loss: 2.8184e-04 - accuracy: 0.4985\n",
      "Epoch 53/100\n",
      "404/404 [==============================] - 84s 207ms/step - loss: 2.8042e-04 - accuracy: 0.5012\n",
      "Epoch 54/100\n",
      "404/404 [==============================] - 82s 203ms/step - loss: 2.7915e-04 - accuracy: 0.5031\n",
      "Epoch 55/100\n",
      "404/404 [==============================] - 83s 205ms/step - loss: 2.7783e-04 - accuracy: 0.5054\n",
      "Epoch 56/100\n",
      "404/404 [==============================] - 82s 203ms/step - loss: 2.7672e-04 - accuracy: 0.5066\n",
      "Epoch 57/100\n",
      "404/404 [==============================] - 84s 207ms/step - loss: 2.7569e-04 - accuracy: 0.5082\n",
      "Epoch 58/100\n",
      "404/404 [==============================] - 82s 203ms/step - loss: 2.7399e-04 - accuracy: 0.5120\n",
      "Epoch 59/100\n",
      "404/404 [==============================] - 83s 204ms/step - loss: 2.7303e-04 - accuracy: 0.5124\n",
      "Epoch 60/100\n",
      "404/404 [==============================] - 81s 201ms/step - loss: 2.7213e-04 - accuracy: 0.5141\n",
      "Epoch 61/100\n",
      "404/404 [==============================] - 82s 203ms/step - loss: 2.7070e-04 - accuracy: 0.5164\n",
      "Epoch 62/100\n",
      "404/404 [==============================] - 81s 201ms/step - loss: 2.6985e-04 - accuracy: 0.5184\n",
      "Epoch 63/100\n",
      "404/404 [==============================] - 83s 205ms/step - loss: 2.6889e-04 - accuracy: 0.5193\n",
      "Epoch 64/100\n",
      "404/404 [==============================] - 81s 201ms/step - loss: 2.6775e-04 - accuracy: 0.5215\n",
      "Epoch 65/100\n",
      "404/404 [==============================] - 83s 205ms/step - loss: 2.6684e-04 - accuracy: 0.5233\n",
      "Epoch 66/100\n",
      "404/404 [==============================] - 81s 201ms/step - loss: 2.6602e-04 - accuracy: 0.5252\n",
      "Epoch 67/100\n",
      "404/404 [==============================] - 83s 205ms/step - loss: 2.6487e-04 - accuracy: 0.5260\n",
      "Epoch 68/100\n",
      "404/404 [==============================] - 81s 200ms/step - loss: 2.6429e-04 - accuracy: 0.5276\n",
      "Epoch 69/100\n",
      "404/404 [==============================] - 83s 205ms/step - loss: 2.6301e-04 - accuracy: 0.5296\n",
      "Epoch 70/100\n",
      "404/404 [==============================] - 81s 201ms/step - loss: 2.6238e-04 - accuracy: 0.5310\n",
      "Epoch 71/100\n",
      "404/404 [==============================] - 82s 203ms/step - loss: 2.6148e-04 - accuracy: 0.5320\n",
      "Epoch 72/100\n",
      "404/404 [==============================] - 82s 202ms/step - loss: 2.6065e-04 - accuracy: 0.5332\n",
      "Epoch 73/100\n",
      "404/404 [==============================] - 82s 203ms/step - loss: 2.5983e-04 - accuracy: 0.5358\n",
      "Epoch 74/100\n",
      "404/404 [==============================] - 82s 202ms/step - loss: 2.5882e-04 - accuracy: 0.5368\n",
      "Epoch 75/100\n",
      "404/404 [==============================] - 83s 206ms/step - loss: 2.5821e-04 - accuracy: 0.5382\n",
      "Epoch 76/100\n",
      "404/404 [==============================] - 82s 202ms/step - loss: 2.5749e-04 - accuracy: 0.5391\n",
      "Epoch 77/100\n",
      "404/404 [==============================] - 82s 204ms/step - loss: 2.5654e-04 - accuracy: 0.5400\n",
      "Epoch 78/100\n",
      "404/404 [==============================] - 82s 203ms/step - loss: 2.5596e-04 - accuracy: 0.5424\n",
      "Epoch 79/100\n",
      "404/404 [==============================] - 82s 202ms/step - loss: 2.5512e-04 - accuracy: 0.5433\n",
      "Epoch 80/100\n",
      "404/404 [==============================] - 82s 203ms/step - loss: 2.5451e-04 - accuracy: 0.5447\n",
      "Epoch 81/100\n",
      "404/404 [==============================] - 82s 203ms/step - loss: 2.5389e-04 - accuracy: 0.5462\n",
      "Epoch 82/100\n",
      "404/404 [==============================] - 82s 203ms/step - loss: 2.5285e-04 - accuracy: 0.5467\n",
      "Epoch 83/100\n",
      "404/404 [==============================] - 82s 202ms/step - loss: 2.5217e-04 - accuracy: 0.5484\n",
      "Epoch 84/100\n",
      "404/404 [==============================] - 82s 203ms/step - loss: 2.5140e-04 - accuracy: 0.5498\n",
      "Epoch 85/100\n",
      "404/404 [==============================] - 81s 200ms/step - loss: 2.5101e-04 - accuracy: 0.5501\n",
      "Epoch 86/100\n",
      "404/404 [==============================] - 83s 204ms/step - loss: 2.5031e-04 - accuracy: 0.5515\n",
      "Epoch 87/100\n",
      "404/404 [==============================] - 81s 202ms/step - loss: 2.4968e-04 - accuracy: 0.5535\n",
      "Epoch 88/100\n",
      "404/404 [==============================] - 82s 204ms/step - loss: 2.4884e-04 - accuracy: 0.5539\n",
      "Epoch 89/100\n",
      "404/404 [==============================] - 81s 200ms/step - loss: 2.4821e-04 - accuracy: 0.5554\n",
      "Epoch 90/100\n",
      "404/404 [==============================] - 82s 202ms/step - loss: 2.4760e-04 - accuracy: 0.5565\n",
      "Epoch 91/100\n",
      "404/404 [==============================] - 81s 200ms/step - loss: 2.4686e-04 - accuracy: 0.5580\n",
      "Epoch 92/100\n",
      "404/404 [==============================] - 82s 202ms/step - loss: 2.4662e-04 - accuracy: 0.5592\n",
      "Epoch 93/100\n",
      "404/404 [==============================] - 81s 200ms/step - loss: 2.4588e-04 - accuracy: 0.5601\n",
      "Epoch 94/100\n",
      "404/404 [==============================] - 82s 202ms/step - loss: 2.4534e-04 - accuracy: 0.5606\n",
      "Epoch 95/100\n",
      "404/404 [==============================] - 83s 205ms/step - loss: 2.4428e-04 - accuracy: 0.5624\n",
      "Epoch 96/100\n",
      "404/404 [==============================] - 82s 202ms/step - loss: 2.4410e-04 - accuracy: 0.5630\n",
      "Epoch 97/100\n",
      "404/404 [==============================] - 81s 200ms/step - loss: 2.4339e-04 - accuracy: 0.5641\n",
      "Epoch 98/100\n",
      "404/404 [==============================] - 81s 201ms/step - loss: 2.4278e-04 - accuracy: 0.5652\n",
      "Epoch 99/100\n",
      "404/404 [==============================] - 81s 199ms/step - loss: 2.4202e-04 - accuracy: 0.5674\n",
      "Epoch 100/100\n",
      "404/404 [==============================] - 83s 205ms/step - loss: 2.4160e-04 - accuracy: 0.5680\n"
     ]
    }
   ],
   "source": [
    "# Train the model\n",
    "epochs = 100\n",
    "batch_size = 16\n",
    "steps = len(train) // batch_size\n",
    "\n",
    "# Create data generator\n",
    "generator = data_generator(train, mapping, features, tokenizer, max_length, vocab_size, batch_size)\n",
    "# Compile model\n",
    "model.compile(loss='binary_crossentropy', optimizer='adam', metrics=['accuracy'])\n",
    "# Fit model\n",
    "history = model.fit(generator, epochs=epochs, steps_per_epoch=steps, verbose=1)"
   ]
  },
  {
   "cell_type": "code",
   "execution_count": null,
   "metadata": {
    "colab": {
     "base_uri": "https://localhost:8080/",
     "height": 573
    },
    "executionInfo": {
     "elapsed": 2867,
     "status": "ok",
     "timestamp": 1664516862439,
     "user": {
      "displayName": "BE Project",
      "userId": "01387424920775928334"
     },
     "user_tz": -330
    },
    "id": "IOD5ozvm4YUL",
    "outputId": "e2b4ebe5-1193-4bb2-9178-44039972bd3b"
   },
   "outputs": [
    {
     "data": {
      "image/png": "[encoded data removed]",
      "text/plain": [
       "<Figure size 432x288 with 1 Axes>"
      ]
     },
     "metadata": {
      "needs_background": "light"
     },
     "output_type": "display_data"
    },
    {
     "data": {
      "image/png": "[encoded data removed]",
      "text/plain": [
       "<Figure size 432x288 with 1 Axes>"
      ]
     },
     "metadata": {
      "needs_background": "light"
     },
     "output_type": "display_data"
    }
   ],
   "source": [
    "import matplotlib.pyplot as plt\n",
    "\n",
    "# Summarize history for accuracy\n",
    "plt.plot(history.history['accuracy'])\n",
    "plt.title('Model accuracy')\n",
    "plt.ylabel('Accuracy')\n",
    "plt.xlabel('Epoch')\n",
    "plt.show()\n",
    "\n",
    "# Summarize history for loss\n",
    "plt.plot(history.history['loss'])\n",
    "plt.title('Model loss')\n",
    "plt.ylabel('Loss')\n",
    "plt.xlabel('Epoch')\n",
    "plt.show()"
   ]
  },
  {
   "cell_type": "code",
   "execution_count": null,
   "metadata": {
    "id": "QyCw8Q49Ev5-"
   },
   "outputs": [],
   "source": [
    "# Save the model\n",
    "model.save(WORKING_DIR+'/english_model_one.h5')"
   ]
  },
  {
   "cell_type": "markdown",
   "metadata": {
    "id": "bhnHneK5gcDq"
   },
   "source": [
    "# **Testing Model**"
   ]
  },
  {
   "cell_type": "code",
   "execution_count": 4,
   "metadata": {
    "executionInfo": {
     "elapsed": 485,
     "status": "ok",
     "timestamp": 1674981572520,
     "user": {
      "displayName": "BE Project",
      "userId": "01387424920775928334"
     },
     "user_tz": -330
    },
    "id": "I54m7RSRgjlU"
   },
   "outputs": [],
   "source": [
    "import numpy as np\n",
    "import pandas as pd\n",
    "\n",
    "import os\n",
    "import pickle\n",
    "from tqdm.notebook import tqdm\n",
    "import string\n",
    "\n",
    "from tensorflow.keras.applications.vgg16 import VGG16, preprocess_input\n",
    "from tensorflow.keras.preprocessing.image import load_img, img_to_array\n",
    "from tensorflow.keras.preprocessing.text import Tokenizer\n",
    "from tensorflow.keras.preprocessing.sequence import pad_sequences\n",
    "from tensorflow.keras.models import Model\n",
    "from tensorflow.keras.utils import to_categorical, plot_model\n",
    "from tensorflow.keras.layers import Input, Dense, LSTM, Embedding, Dropout, add\n",
    "from tensorflow.keras.models import load_model"
   ]
  },
  {
   "cell_type": "code",
   "execution_count": 5,
   "metadata": {
    "executionInfo": {
     "elapsed": 488,
     "status": "ok",
     "timestamp": 1674981576142,
     "user": {
      "displayName": "BE Project",
      "userId": "01387424920775928334"
     },
     "user_tz": -330
    },
    "id": "atQD1VzVoODO"
   },
   "outputs": [],
   "source": [
    "R_DIR=os.getcwd()\n",
    "BASE_DIR = os.path.join(R_DIR, 'Dataset')\n",
    "WORKING_DIR = os.path.join(R_DIR, 'Models')"
   ]
  },
  {
   "cell_type": "code",
   "execution_count": 6,
   "metadata": {
    "executionInfo": {
     "elapsed": 2898,
     "status": "ok",
     "timestamp": 1674981579545,
     "user": {
      "displayName": "BE Project",
      "userId": "01387424920775928334"
     },
     "user_tz": -330
    },
    "id": "wXXb_REbkMsY"
   },
   "outputs": [],
   "source": [
    "# load features from pickle\n",
    "with open(os.path.join(WORKING_DIR, 'features.pkl'), 'rb') as f:\n",
    "  features = pickle.load(f)"
   ]
  },
  {
   "cell_type": "code",
   "execution_count": 7,
   "metadata": {
    "colab": {
     "base_uri": "https://localhost:8080/",
     "height": 49,
     "referenced_widgets": [
      "0ecf82946f784855b8ff3a8737576ff3",
      "ed501ef4a0c14a6dabd411c29cfea4f5",
      "a648b14c2790437888522cbf4aa97621",
      "6b49ace44dc34d3d97dfb2e47345f707",
      "b1389b943a3643eea6cbb7ae458f0819",
      "78d404fede5f4b35b533b4fb8c7e9784",
      "1232bba9b9a24a03970df72f82c414d4",
      "00e5e1bcd3bc4d0abe1126177ab533f8",
      "3dbeee4f85d94e36ac03ec96952ac89f",
      "f6c6deee28054c52b4ffde4e3e987e79",
      "6778313a26634855a46cb2b8151890d7"
     ]
    },
    "executionInfo": {
     "elapsed": 19,
     "status": "ok",
     "timestamp": 1674981579547,
     "user": {
      "displayName": "BE Project",
      "userId": "01387424920775928334"
     },
     "user_tz": -330
    },
    "id": "KVhEtQRnkbJy",
    "outputId": "b5acd66c-404c-4cc6-bebd-1aa375657956"
   },
   "outputs": [
    {
     "data": {
      "application/vnd.jupyter.widget-view+json": {
       "model_id": "0ecf82946f784855b8ff3a8737576ff3",
       "version_major": 2,
       "version_minor": 0
      },
      "text/plain": [
       "  0%|          | 0/40456 [00:00<?, ?it/s]"
      ]
     },
     "metadata": {},
     "output_type": "display_data"
    }
   ],
   "source": [
    "with open(os.path.join(BASE_DIR, 'English_captions.txt'), 'r') as f:\n",
    "    next(f)\n",
    "    captions_doc = f.read()\n",
    "\n",
    "# create mapping of image to captions\n",
    "mapping = {}\n",
    "# process lines\n",
    "for line in tqdm(captions_doc.split('\\n')):\n",
    "    # split the line by comma(,)\n",
    "    tokens = line.split(',')\n",
    "    if len(line) < 2:\n",
    "        continue\n",
    "    image_id, caption = tokens[0], tokens[1:]\n",
    "    # remove extension from image ID\n",
    "    image_id = image_id.split('.')[0]\n",
    "    # convert caption list to string\n",
    "    caption = \" \".join(caption)\n",
    "    # create list if needed\n",
    "    if image_id not in mapping:\n",
    "        mapping[image_id] = []\n",
    "    # store the caption\n",
    "    mapping[image_id].append(caption)"
   ]
  },
  {
   "cell_type": "code",
   "execution_count": 8,
   "metadata": {
    "executionInfo": {
     "elapsed": 4,
     "status": "ok",
     "timestamp": 1674981580044,
     "user": {
      "displayName": "BE Project",
      "userId": "01387424920775928334"
     },
     "user_tz": -330
    },
    "id": "6GS5V9Dpkhnt"
   },
   "outputs": [],
   "source": [
    "def clean(mapping):\n",
    "    for key, captions in mapping.items():\n",
    "        for i in range(len(captions)):\n",
    "            # take one caption at a time\n",
    "            caption = captions[i]\n",
    "            # preprocessing steps\n",
    "            # convert to lowercase\n",
    "            caption = caption.lower()\n",
    "            # replacing \".\" with \" । \"\n",
    "            caption = caption.replace('.', '।')\n",
    "            # delete digits, special chars, etc., \n",
    "            caption = caption.replace('[^A-Za-z]', '')\n",
    "            # delete additional spaces\n",
    "            caption = caption.replace('\\s+', ' ')\n",
    "            # add start and end tags to the caption\n",
    "            caption = 'startseq ' + \" \".join([word for word in caption.split() if len(word)>1]) + ' endseq'\n",
    "            captions[i] = caption\n",
    "\n",
    "clean(mapping)"
   ]
  },
  {
   "cell_type": "code",
   "execution_count": 9,
   "metadata": {
    "executionInfo": {
     "elapsed": 713,
     "status": "ok",
     "timestamp": 1674981582986,
     "user": {
      "displayName": "BE Project",
      "userId": "01387424920775928334"
     },
     "user_tz": -330
    },
    "id": "jMCGwhtPlB6j"
   },
   "outputs": [],
   "source": [
    "all_captions = []\n",
    "for key in mapping:\n",
    "    for caption in mapping[key]:\n",
    "        all_captions.append(caption)\n",
    "\n",
    "# tokenize the text\n",
    "tokenizer = Tokenizer()\n",
    "tokenizer.fit_on_texts(all_captions)\n",
    "vocab_size = len(tokenizer.word_index) + 1\n",
    "\n",
    "# get maximum length of the caption available\n",
    "max_length = max(len(caption.split()) for caption in all_captions)"
   ]
  },
  {
   "cell_type": "code",
   "execution_count": 10,
   "metadata": {
    "executionInfo": {
     "elapsed": 4,
     "status": "ok",
     "timestamp": 1674981584346,
     "user": {
      "displayName": "BE Project",
      "userId": "01387424920775928334"
     },
     "user_tz": -330
    },
    "id": "sp9tzfIOkDVu"
   },
   "outputs": [],
   "source": [
    "def idx_to_word(integer, tokenizer):\n",
    "    for word, index in tokenizer.word_index.items():\n",
    "        if index == integer:\n",
    "            return word\n",
    "    return None\n",
    "\n",
    "def predict_caption(model, image, tokenizer, max_length):\n",
    "    # Add start tag for generation process\n",
    "    in_text = 'startseq'\n",
    "    \n",
    "    for i in range(max_length):\n",
    "        # Encode input sequence\n",
    "        sequence = tokenizer.texts_to_sequences([in_text])[0]\n",
    "        # Pad the sequence\n",
    "        sequence = pad_sequences([sequence], max_length)\n",
    "        # Predict next word\n",
    "        yhat = model.predict([image, sequence], verbose=0)\n",
    "        # Get index with high probability\n",
    "        yhat = np.argmax(yhat)\n",
    "        # Convert index to word\n",
    "        word = idx_to_word(yhat, tokenizer)\n",
    "        # Stop if word not found\n",
    "        if word is None:\n",
    "            break\n",
    "        # Append word as input for generating next word\n",
    "        in_text += \" \" + word\n",
    "        # Stop if we reach end tag\n",
    "        if word == 'endseq':\n",
    "            break\n",
    "    return in_text"
   ]
  },
  {
   "cell_type": "code",
   "execution_count": 11,
   "metadata": {
    "executionInfo": {
     "elapsed": 7,
     "status": "ok",
     "timestamp": 1674981586555,
     "user": {
      "displayName": "BE Project",
      "userId": "01387424920775928334"
     },
     "user_tz": -330
    },
    "id": "-TJztkwzYXFv"
   },
   "outputs": [],
   "source": [
    "def extract_features_for_one_image(filename):\n",
    "    model = VGG16()\n",
    "    model.layers.pop()\n",
    "    model = Model(inputs = model.inputs , outputs = model.layers[-2].output)\n",
    "    image = load_img(filename , target_size=(224,224))\n",
    "    image = img_to_array(image)\n",
    "    image = image.reshape((1,image.shape[0],image.shape[1],image.shape[2]))\n",
    "    image = preprocess_input(image)\n",
    "    feature = model.predict(image , verbose = 0)\n",
    "    return feature"
   ]
  },
  {
   "cell_type": "code",
   "execution_count": 12,
   "metadata": {
    "executionInfo": {
     "elapsed": 5,
     "status": "ok",
     "timestamp": 1674981588258,
     "user": {
      "displayName": "BE Project",
      "userId": "01387424920775928334"
     },
     "user_tz": -330
    },
    "id": "rt6ibIxIYs6x"
   },
   "outputs": [],
   "source": [
    "from PIL import Image\n",
    "import matplotlib.pyplot as plt\n",
    "def generate_cap(pth):\n",
    "  image = extract_features_for_one_image(pth)\n",
    "  description = predict_caption(model, image, tokenizer, max_length)\n",
    "  print(description)\n",
    "  image = Image.open(pth)\n",
    "  plt.imshow(image)\n",
    "  plt.show()"
   ]
  },
  {
   "cell_type": "code",
   "execution_count": 13,
   "metadata": {
    "executionInfo": {
     "elapsed": 3178,
     "status": "ok",
     "timestamp": 1674981593072,
     "user": {
      "displayName": "BE Project",
      "userId": "01387424920775928334"
     },
     "user_tz": -330
    },
    "id": "aJO-oXhJXvZN"
   },
   "outputs": [],
   "source": [
    "# Loading model\n",
    "model = load_model(WORKING_DIR+'/english_model_one.h5')"
   ]
  },
  {
   "cell_type": "code",
   "execution_count": 16,
   "metadata": {
    "colab": {
     "base_uri": "https://localhost:8080/",
     "height": 321
    },
    "executionInfo": {
     "elapsed": 11609,
     "status": "ok",
     "timestamp": 1674981744752,
     "user": {
      "displayName": "BE Project",
      "userId": "01387424920775928334"
     },
     "user_tz": -330
    },
    "id": "NsVosGUdbbEv",
    "outputId": "5363b041-2cdb-4900-de3d-ca3634faece6"
   },
   "outputs": [
    {
     "name": "stdout",
     "output_type": "stream",
     "text": [
      "Enter Image Path: /content/drive/MyDrive/Colab_Notebooks/MP(CNN_LSTM)/Test_Images/166433861_70b66cd381.jpg\n",
      "\n",
      "startseq motorcyclist rides along roadway that has recently turned endseq\n"
     ]
    },
    {
     "data": {
      "image/png": "[encoded data removed]",
      "text/plain": [
       "<Figure size 432x288 with 1 Axes>"
      ]
     },
     "metadata": {
      "needs_background": "light"
     },
     "output_type": "display_data"
    }
   ],
   "source": [
    "pth = input(\"Enter Image Path: \")\n",
    "print(\"\")\n",
    "pth=pth.replace('\"','') #Comment this line if executing in colab\n",
    "generate_cap(pth)"
   ]
  }
 ],
 "metadata": {
  "colab": {
   "authorship_tag": "ABX9TyPjqPZCJ++Huk1gA8pz0cHE",
   "mount_file_id": "1daAxv3XyhA8cOoTyCP8xA1AOoh-p1mPQ",
   "provenance": []
  },
  "kernelspec": {
   "display_name": "Python 3 (ipykernel)",
   "language": "python",
   "name": "python3"
  },
  "language_info": {
   "codemirror_mode": {
    "name": "ipython",
    "version": 3
   },
   "file_extension": ".py",
   "mimetype": "text/x-python",
   "name": "python",
   "nbconvert_exporter": "python",
   "pygments_lexer": "ipython3",
   "version": "3.9.13"
  },
  "widgets": {
   "application/vnd.jupyter.widget-state+json": {
    "00e5e1bcd3bc4d0abe1126177ab533f8": {
     "model_module": "@jupyter-widgets/base",
     "model_module_version": "1.2.0",
     "model_name": "LayoutModel",
     "state": {
      "_model_module": "@jupyter-widgets/base",
      "_model_module_version": "1.2.0",
      "_model_name": "LayoutModel",
      "_view_count": null,
      "_view_module": "@jupyter-widgets/base",
      "_view_module_version": "1.2.0",
      "_view_name": "LayoutView",
      "align_content": null,
      "align_items": null,
      "align_self": null,
      "border": null,
      "bottom": null,
      "display": null,
      "flex": null,
      "flex_flow": null,
      "grid_area": null,
      "grid_auto_columns": null,
      "grid_auto_flow": null,
      "grid_auto_rows": null,
      "grid_column": null,
      "grid_gap": null,
      "grid_row": null,
      "grid_template_areas": null,
      "grid_template_columns": null,
      "grid_template_rows": null,
      "height": null,
      "justify_content": null,
      "justify_items": null,
      "left": null,
      "margin": null,
      "max_height": null,
      "max_width": null,
      "min_height": null,
      "min_width": null,
      "object_fit": null,
      "object_position": null,
      "order": null,
      "overflow": null,
      "overflow_x": null,
      "overflow_y": null,
      "padding": null,
      "right": null,
      "top": null,
      "visibility": null,
      "width": null
     }
    },
    "0319eb566e2c479b945c29b17c5921c7": {
     "model_module": "@jupyter-widgets/controls",
     "model_module_version": "1.5.0",
     "model_name": "FloatProgressModel",
     "state": {
      "_dom_classes": [],
      "_model_module": "@jupyter-widgets/controls",
      "_model_module_version": "1.5.0",
      "_model_name": "FloatProgressModel",
      "_view_count": null,
      "_view_module": "@jupyter-widgets/controls",
      "_view_module_version": "1.5.0",
      "_view_name": "ProgressView",
      "bar_style": "success",
      "description": "",
      "description_tooltip": null,
      "layout": "IPY_MODEL_464ef9a6d542426fbc4f2c71b3282020",
      "max": 40456,
      "min": 0,
      "orientation": "horizontal",
      "style": "IPY_MODEL_e19b6fa5d7fd4cceb2e8fa300f84be9b",
      "value": 40456
     }
    },
    "08f739d419ca4965b2ea9605eb9a3c28": {
     "model_module": "@jupyter-widgets/base",
     "model_module_version": "1.2.0",
     "model_name": "LayoutModel",
     "state": {
      "_model_module": "@jupyter-widgets/base",
      "_model_module_version": "1.2.0",
      "_model_name": "LayoutModel",
      "_view_count": null,
      "_view_module": "@jupyter-widgets/base",
      "_view_module_version": "1.2.0",
      "_view_name": "LayoutView",
      "align_content": null,
      "align_items": null,
      "align_self": null,
      "border": null,
      "bottom": null,
      "display": null,
      "flex": null,
      "flex_flow": null,
      "grid_area": null,
      "grid_auto_columns": null,
      "grid_auto_flow": null,
      "grid_auto_rows": null,
      "grid_column": null,
      "grid_gap": null,
      "grid_row": null,
      "grid_template_areas": null,
      "grid_template_columns": null,
      "grid_template_rows": null,
      "height": null,
      "justify_content": null,
      "justify_items": null,
      "left": null,
      "margin": null,
      "max_height": null,
      "max_width": null,
      "min_height": null,
      "min_width": null,
      "object_fit": null,
      "object_position": null,
      "order": null,
      "overflow": null,
      "overflow_x": null,
      "overflow_y": null,
      "padding": null,
      "right": null,
      "top": null,
      "visibility": null,
      "width": null
     }
    },
    "0ecf82946f784855b8ff3a8737576ff3": {
     "model_module": "@jupyter-widgets/controls",
     "model_module_version": "1.5.0",
     "model_name": "HBoxModel",
     "state": {
      "_dom_classes": [],
      "_model_module": "@jupyter-widgets/controls",
      "_model_module_version": "1.5.0",
      "_model_name": "HBoxModel",
      "_view_count": null,
      "_view_module": "@jupyter-widgets/controls",
      "_view_module_version": "1.5.0",
      "_view_name": "HBoxView",
      "box_style": "",
      "children": [
       "IPY_MODEL_ed501ef4a0c14a6dabd411c29cfea4f5",
       "IPY_MODEL_a648b14c2790437888522cbf4aa97621",
       "IPY_MODEL_6b49ace44dc34d3d97dfb2e47345f707"
      ],
      "layout": "IPY_MODEL_b1389b943a3643eea6cbb7ae458f0819"
     }
    },
    "1232bba9b9a24a03970df72f82c414d4": {
     "model_module": "@jupyter-widgets/controls",
     "model_module_version": "1.5.0",
     "model_name": "DescriptionStyleModel",
     "state": {
      "_model_module": "@jupyter-widgets/controls",
      "_model_module_version": "1.5.0",
      "_model_name": "DescriptionStyleModel",
      "_view_count": null,
      "_view_module": "@jupyter-widgets/base",
      "_view_module_version": "1.2.0",
      "_view_name": "StyleView",
      "description_width": ""
     }
    },
    "1bf1784ffa104275a28b2597a444301d": {
     "model_module": "@jupyter-widgets/controls",
     "model_module_version": "1.5.0",
     "model_name": "HTMLModel",
     "state": {
      "_dom_classes": [],
      "_model_module": "@jupyter-widgets/controls",
      "_model_module_version": "1.5.0",
      "_model_name": "HTMLModel",
      "_view_count": null,
      "_view_module": "@jupyter-widgets/controls",
      "_view_module_version": "1.5.0",
      "_view_name": "HTMLView",
      "description": "",
      "description_tooltip": null,
      "layout": "IPY_MODEL_08f739d419ca4965b2ea9605eb9a3c28",
      "placeholder": "​",
      "style": "IPY_MODEL_d76176e4183b449587ca120b979ab07e",
      "value": " 40456/40456 [00:00&lt;00:00, 212704.85it/s]"
     }
    },
    "2e3403b64a00412187f55114849ff779": {
     "model_module": "@jupyter-widgets/controls",
     "model_module_version": "1.5.0",
     "model_name": "HTMLModel",
     "state": {
      "_dom_classes": [],
      "_model_module": "@jupyter-widgets/controls",
      "_model_module_version": "1.5.0",
      "_model_name": "HTMLModel",
      "_view_count": null,
      "_view_module": "@jupyter-widgets/controls",
      "_view_module_version": "1.5.0",
      "_view_name": "HTMLView",
      "description": "",
      "description_tooltip": null,
      "layout": "IPY_MODEL_f884baf9b4794ce592df84e8f5117bbc",
      "placeholder": "​",
      "style": "IPY_MODEL_c30ce90e9be34e52939c445602e8c489",
      "value": "100%"
     }
    },
    "3450081282e64601aa0d1c976a46e482": {
     "model_module": "@jupyter-widgets/base",
     "model_module_version": "1.2.0",
     "model_name": "LayoutModel",
     "state": {
      "_model_module": "@jupyter-widgets/base",
      "_model_module_version": "1.2.0",
      "_model_name": "LayoutModel",
      "_view_count": null,
      "_view_module": "@jupyter-widgets/base",
      "_view_module_version": "1.2.0",
      "_view_name": "LayoutView",
      "align_content": null,
      "align_items": null,
      "align_self": null,
      "border": null,
      "bottom": null,
      "display": null,
      "flex": null,
      "flex_flow": null,
      "grid_area": null,
      "grid_auto_columns": null,
      "grid_auto_flow": null,
      "grid_auto_rows": null,
      "grid_column": null,
      "grid_gap": null,
      "grid_row": null,
      "grid_template_areas": null,
      "grid_template_columns": null,
      "grid_template_rows": null,
      "height": null,
      "justify_content": null,
      "justify_items": null,
      "left": null,
      "margin": null,
      "max_height": null,
      "max_width": null,
      "min_height": null,
      "min_width": null,
      "object_fit": null,
      "object_position": null,
      "order": null,
      "overflow": null,
      "overflow_x": null,
      "overflow_y": null,
      "padding": null,
      "right": null,
      "top": null,
      "visibility": null,
      "width": null
     }
    },
    "3d6915cd101541329088832519df9d0d": {
     "model_module": "@jupyter-widgets/controls",
     "model_module_version": "1.5.0",
     "model_name": "HBoxModel",
     "state": {
      "_dom_classes": [],
      "_model_module": "@jupyter-widgets/controls",
      "_model_module_version": "1.5.0",
      "_model_name": "HBoxModel",
      "_view_count": null,
      "_view_module": "@jupyter-widgets/controls",
      "_view_module_version": "1.5.0",
      "_view_name": "HBoxView",
      "box_style": "",
      "children": [
       "IPY_MODEL_2e3403b64a00412187f55114849ff779",
       "IPY_MODEL_0319eb566e2c479b945c29b17c5921c7",
       "IPY_MODEL_1bf1784ffa104275a28b2597a444301d"
      ],
      "layout": "IPY_MODEL_3450081282e64601aa0d1c976a46e482"
     }
    },
    "3dbeee4f85d94e36ac03ec96952ac89f": {
     "model_module": "@jupyter-widgets/controls",
     "model_module_version": "1.5.0",
     "model_name": "ProgressStyleModel",
     "state": {
      "_model_module": "@jupyter-widgets/controls",
      "_model_module_version": "1.5.0",
      "_model_name": "ProgressStyleModel",
      "_view_count": null,
      "_view_module": "@jupyter-widgets/base",
      "_view_module_version": "1.2.0",
      "_view_name": "StyleView",
      "bar_color": null,
      "description_width": ""
     }
    },
    "464ef9a6d542426fbc4f2c71b3282020": {
     "model_module": "@jupyter-widgets/base",
     "model_module_version": "1.2.0",
     "model_name": "LayoutModel",
     "state": {
      "_model_module": "@jupyter-widgets/base",
      "_model_module_version": "1.2.0",
      "_model_name": "LayoutModel",
      "_view_count": null,
      "_view_module": "@jupyter-widgets/base",
      "_view_module_version": "1.2.0",
      "_view_name": "LayoutView",
      "align_content": null,
      "align_items": null,
      "align_self": null,
      "border": null,
      "bottom": null,
      "display": null,
      "flex": null,
      "flex_flow": null,
      "grid_area": null,
      "grid_auto_columns": null,
      "grid_auto_flow": null,
      "grid_auto_rows": null,
      "grid_column": null,
      "grid_gap": null,
      "grid_row": null,
      "grid_template_areas": null,
      "grid_template_columns": null,
      "grid_template_rows": null,
      "height": null,
      "justify_content": null,
      "justify_items": null,
      "left": null,
      "margin": null,
      "max_height": null,
      "max_width": null,
      "min_height": null,
      "min_width": null,
      "object_fit": null,
      "object_position": null,
      "order": null,
      "overflow": null,
      "overflow_x": null,
      "overflow_y": null,
      "padding": null,
      "right": null,
      "top": null,
      "visibility": null,
      "width": null
     }
    },
    "6778313a26634855a46cb2b8151890d7": {
     "model_module": "@jupyter-widgets/controls",
     "model_module_version": "1.5.0",
     "model_name": "DescriptionStyleModel",
     "state": {
      "_model_module": "@jupyter-widgets/controls",
      "_model_module_version": "1.5.0",
      "_model_name": "DescriptionStyleModel",
      "_view_count": null,
      "_view_module": "@jupyter-widgets/base",
      "_view_module_version": "1.2.0",
      "_view_name": "StyleView",
      "description_width": ""
     }
    },
    "6b49ace44dc34d3d97dfb2e47345f707": {
     "model_module": "@jupyter-widgets/controls",
     "model_module_version": "1.5.0",
     "model_name": "HTMLModel",
     "state": {
      "_dom_classes": [],
      "_model_module": "@jupyter-widgets/controls",
      "_model_module_version": "1.5.0",
      "_model_name": "HTMLModel",
      "_view_count": null,
      "_view_module": "@jupyter-widgets/controls",
      "_view_module_version": "1.5.0",
      "_view_name": "HTMLView",
      "description": "",
      "description_tooltip": null,
      "layout": "IPY_MODEL_f6c6deee28054c52b4ffde4e3e987e79",
      "placeholder": "​",
      "style": "IPY_MODEL_6778313a26634855a46cb2b8151890d7",
      "value": " 40456/40456 [00:00&lt;00:00, 414454.61it/s]"
     }
    },
    "78d404fede5f4b35b533b4fb8c7e9784": {
     "model_module": "@jupyter-widgets/base",
     "model_module_version": "1.2.0",
     "model_name": "LayoutModel",
     "state": {
      "_model_module": "@jupyter-widgets/base",
      "_model_module_version": "1.2.0",
      "_model_name": "LayoutModel",
      "_view_count": null,
      "_view_module": "@jupyter-widgets/base",
      "_view_module_version": "1.2.0",
      "_view_name": "LayoutView",
      "align_content": null,
      "align_items": null,
      "align_self": null,
      "border": null,
      "bottom": null,
      "display": null,
      "flex": null,
      "flex_flow": null,
      "grid_area": null,
      "grid_auto_columns": null,
      "grid_auto_flow": null,
      "grid_auto_rows": null,
      "grid_column": null,
      "grid_gap": null,
      "grid_row": null,
      "grid_template_areas": null,
      "grid_template_columns": null,
      "grid_template_rows": null,
      "height": null,
      "justify_content": null,
      "justify_items": null,
      "left": null,
      "margin": null,
      "max_height": null,
      "max_width": null,
      "min_height": null,
      "min_width": null,
      "object_fit": null,
      "object_position": null,
      "order": null,
      "overflow": null,
      "overflow_x": null,
      "overflow_y": null,
      "padding": null,
      "right": null,
      "top": null,
      "visibility": null,
      "width": null
     }
    },
    "a648b14c2790437888522cbf4aa97621": {
     "model_module": "@jupyter-widgets/controls",
     "model_module_version": "1.5.0",
     "model_name": "FloatProgressModel",
     "state": {
      "_dom_classes": [],
      "_model_module": "@jupyter-widgets/controls",
      "_model_module_version": "1.5.0",
      "_model_name": "FloatProgressModel",
      "_view_count": null,
      "_view_module": "@jupyter-widgets/controls",
      "_view_module_version": "1.5.0",
      "_view_name": "ProgressView",
      "bar_style": "success",
      "description": "",
      "description_tooltip": null,
      "layout": "IPY_MODEL_00e5e1bcd3bc4d0abe1126177ab533f8",
      "max": 40456,
      "min": 0,
      "orientation": "horizontal",
      "style": "IPY_MODEL_3dbeee4f85d94e36ac03ec96952ac89f",
      "value": 40456
     }
    },
    "b1389b943a3643eea6cbb7ae458f0819": {
     "model_module": "@jupyter-widgets/base",
     "model_module_version": "1.2.0",
     "model_name": "LayoutModel",
     "state": {
      "_model_module": "@jupyter-widgets/base",
      "_model_module_version": "1.2.0",
      "_model_name": "LayoutModel",
      "_view_count": null,
      "_view_module": "@jupyter-widgets/base",
      "_view_module_version": "1.2.0",
      "_view_name": "LayoutView",
      "align_content": null,
      "align_items": null,
      "align_self": null,
      "border": null,
      "bottom": null,
      "display": null,
      "flex": null,
      "flex_flow": null,
      "grid_area": null,
      "grid_auto_columns": null,
      "grid_auto_flow": null,
      "grid_auto_rows": null,
      "grid_column": null,
      "grid_gap": null,
      "grid_row": null,
      "grid_template_areas": null,
      "grid_template_columns": null,
      "grid_template_rows": null,
      "height": null,
      "justify_content": null,
      "justify_items": null,
      "left": null,
      "margin": null,
      "max_height": null,
      "max_width": null,
      "min_height": null,
      "min_width": null,
      "object_fit": null,
      "object_position": null,
      "order": null,
      "overflow": null,
      "overflow_x": null,
      "overflow_y": null,
      "padding": null,
      "right": null,
      "top": null,
      "visibility": null,
      "width": null
     }
    },
    "c30ce90e9be34e52939c445602e8c489": {
     "model_module": "@jupyter-widgets/controls",
     "model_module_version": "1.5.0",
     "model_name": "DescriptionStyleModel",
     "state": {
      "_model_module": "@jupyter-widgets/controls",
      "_model_module_version": "1.5.0",
      "_model_name": "DescriptionStyleModel",
      "_view_count": null,
      "_view_module": "@jupyter-widgets/base",
      "_view_module_version": "1.2.0",
      "_view_name": "StyleView",
      "description_width": ""
     }
    },
    "d76176e4183b449587ca120b979ab07e": {
     "model_module": "@jupyter-widgets/controls",
     "model_module_version": "1.5.0",
     "model_name": "DescriptionStyleModel",
     "state": {
      "_model_module": "@jupyter-widgets/controls",
      "_model_module_version": "1.5.0",
      "_model_name": "DescriptionStyleModel",
      "_view_count": null,
      "_view_module": "@jupyter-widgets/base",
      "_view_module_version": "1.2.0",
      "_view_name": "StyleView",
      "description_width": ""
     }
    },
    "e19b6fa5d7fd4cceb2e8fa300f84be9b": {
     "model_module": "@jupyter-widgets/controls",
     "model_module_version": "1.5.0",
     "model_name": "ProgressStyleModel",
     "state": {
      "_model_module": "@jupyter-widgets/controls",
      "_model_module_version": "1.5.0",
      "_model_name": "ProgressStyleModel",
      "_view_count": null,
      "_view_module": "@jupyter-widgets/base",
      "_view_module_version": "1.2.0",
      "_view_name": "StyleView",
      "bar_color": null,
      "description_width": ""
     }
    },
    "ed501ef4a0c14a6dabd411c29cfea4f5": {
     "model_module": "@jupyter-widgets/controls",
     "model_module_version": "1.5.0",
     "model_name": "HTMLModel",
     "state": {
      "_dom_classes": [],
      "_model_module": "@jupyter-widgets/controls",
      "_model_module_version": "1.5.0",
      "_model_name": "HTMLModel",
      "_view_count": null,
      "_view_module": "@jupyter-widgets/controls",
      "_view_module_version": "1.5.0",
      "_view_name": "HTMLView",
      "description": "",
      "description_tooltip": null,
      "layout": "IPY_MODEL_78d404fede5f4b35b533b4fb8c7e9784",
      "placeholder": "​",
      "style": "IPY_MODEL_1232bba9b9a24a03970df72f82c414d4",
      "value": "100%"
     }
    },
    "f6c6deee28054c52b4ffde4e3e987e79": {
     "model_module": "@jupyter-widgets/base",
     "model_module_version": "1.2.0",
     "model_name": "LayoutModel",
     "state": {
      "_model_module": "@jupyter-widgets/base",
      "_model_module_version": "1.2.0",
      "_model_name": "LayoutModel",
      "_view_count": null,
      "_view_module": "@jupyter-widgets/base",
      "_view_module_version": "1.2.0",
      "_view_name": "LayoutView",
      "align_content": null,
      "align_items": null,
      "align_self": null,
      "border": null,
      "bottom": null,
      "display": null,
      "flex": null,
      "flex_flow": null,
      "grid_area": null,
      "grid_auto_columns": null,
      "grid_auto_flow": null,
      "grid_auto_rows": null,
      "grid_column": null,
      "grid_gap": null,
      "grid_row": null,
      "grid_template_areas": null,
      "grid_template_columns": null,
      "grid_template_rows": null,
      "height": null,
      "justify_content": null,
      "justify_items": null,
      "left": null,
      "margin": null,
      "max_height": null,
      "max_width": null,
      "min_height": null,
      "min_width": null,
      "object_fit": null,
      "object_position": null,
      "order": null,
      "overflow": null,
      "overflow_x": null,
      "overflow_y": null,
      "padding": null,
      "right": null,
      "top": null,
      "visibility": null,
      "width": null
     }
    },
    "f884baf9b4794ce592df84e8f5117bbc": {
     "model_module": "@jupyter-widgets/base",
     "model_module_version": "1.2.0",
     "model_name": "LayoutModel",
     "state": {
      "_model_module": "@jupyter-widgets/base",
      "_model_module_version": "1.2.0",
      "_model_name": "LayoutModel",
      "_view_count": null,
      "_view_module": "@jupyter-widgets/base",
      "_view_module_version": "1.2.0",
      "_view_name": "LayoutView",
      "align_content": null,
      "align_items": null,
      "align_self": null,
      "border": null,
      "bottom": null,
      "display": null,
      "flex": null,
      "flex_flow": null,
      "grid_area": null,
      "grid_auto_columns": null,
      "grid_auto_flow": null,
      "grid_auto_rows": null,
      "grid_column": null,
      "grid_gap": null,
      "grid_row": null,
      "grid_template_areas": null,
      "grid_template_columns": null,
      "grid_template_rows": null,
      "height": null,
      "justify_content": null,
      "justify_items": null,
      "left": null,
      "margin": null,
      "max_height": null,
      "max_width": null,
      "min_height": null,
      "min_width": null,
      "object_fit": null,
      "object_position": null,
      "order": null,
      "overflow": null,
      "overflow_x": null,
      "overflow_y": null,
      "padding": null,
      "right": null,
      "top": null,
      "visibility": null,
      "width": null
     }
    }
   }
  }
 },
 "nbformat": 4,
 "nbformat_minor": 1
}
