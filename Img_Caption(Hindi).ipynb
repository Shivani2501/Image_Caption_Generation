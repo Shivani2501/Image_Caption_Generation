{
 "cells": [
  {
   "cell_type": "markdown",
   "metadata": {
    "id": "7ITLmfzZ-rjr"
   },
   "source": [
    "## **Importing Libraries**"
   ]
  },
  {
   "cell_type": "code",
   "execution_count": null,
   "metadata": {
    "id": "M8km51ao49Mt"
   },
   "outputs": [],
   "source": [
    "import numpy as np\n",
    "import pandas as pd\n",
    "\n",
    "import os\n",
    "import pickle\n",
    "from tqdm.notebook import tqdm\n",
    "import string\n",
    "\n",
    "from tensorflow.keras.applications.vgg16 import VGG16, preprocess_input\n",
    "from tensorflow.keras.preprocessing.image import load_img, img_to_array\n",
    "from tensorflow.keras.preprocessing.text import Tokenizer\n",
    "from tensorflow.keras.preprocessing.sequence import pad_sequences\n",
    "from tensorflow.keras.models import Model\n",
    "from tensorflow.keras.utils import to_categorical, plot_model\n",
    "from tensorflow.keras.layers import Input, Dense, LSTM, Embedding, Dropout, add\n",
    "from tensorflow.keras.models import load_model"
   ]
  },
  {
   "cell_type": "code",
   "execution_count": null,
   "metadata": {
    "id": "lMKhEHOl8BLJ"
   },
   "outputs": [],
   "source": [
    "R_DIR=os.getcwd()\n",
    "BASE_DIR = os.path.join(R_DIR, 'Dataset')\n",
    "WORKING_DIR = os.path.join(R_DIR, 'Models')"
   ]
  },
  {
   "cell_type": "markdown",
   "metadata": {
    "id": "8Et0gcpu_Vww"
   },
   "source": [
    "## **Extracting Features from Images**"
   ]
  },
  {
   "cell_type": "code",
   "execution_count": null,
   "metadata": {
    "colab": {
     "base_uri": "https://localhost:8080/"
    },
    "executionInfo": {
     "elapsed": 16368,
     "status": "ok",
     "timestamp": 1664508420246,
     "user": {
      "displayName": "BE Project",
      "userId": "01387424920775928334"
     },
     "user_tz": -330
    },
    "id": "8L4rBZrh8n5w",
    "outputId": "2e9c2b39-0fcb-4d79-cde5-0a32c724ede6"
   },
   "outputs": [
    {
     "name": "stdout",
     "output_type": "stream",
     "text": [
      "Downloading data from https://storage.googleapis.com/tensorflow/keras-applications/vgg16/vgg16_weights_tf_dim_ordering_tf_kernels.h5\n",
      "553467904/553467096 [==============================] - 11s 0us/step\n",
      "553476096/553467096 [==============================] - 11s 0us/step\n",
      "Model: \"model\"\n",
      "_________________________________________________________________\n",
      " Layer (type)                Output Shape              Param #   \n",
      "=================================================================\n",
      " input_1 (InputLayer)        [(None, 224, 224, 3)]     0         \n",
      "                                                                 \n",
      " block1_conv1 (Conv2D)       (None, 224, 224, 64)      1792      \n",
      "                                                                 \n",
      " block1_conv2 (Conv2D)       (None, 224, 224, 64)      36928     \n",
      "                                                                 \n",
      " block1_pool (MaxPooling2D)  (None, 112, 112, 64)      0         \n",
      "                                                                 \n",
      " block2_conv1 (Conv2D)       (None, 112, 112, 128)     73856     \n",
      "                                                                 \n",
      " block2_conv2 (Conv2D)       (None, 112, 112, 128)     147584    \n",
      "                                                                 \n",
      " block2_pool (MaxPooling2D)  (None, 56, 56, 128)       0         \n",
      "                                                                 \n",
      " block3_conv1 (Conv2D)       (None, 56, 56, 256)       295168    \n",
      "                                                                 \n",
      " block3_conv2 (Conv2D)       (None, 56, 56, 256)       590080    \n",
      "                                                                 \n",
      " block3_conv3 (Conv2D)       (None, 56, 56, 256)       590080    \n",
      "                                                                 \n",
      " block3_pool (MaxPooling2D)  (None, 28, 28, 256)       0         \n",
      "                                                                 \n",
      " block4_conv1 (Conv2D)       (None, 28, 28, 512)       1180160   \n",
      "                                                                 \n",
      " block4_conv2 (Conv2D)       (None, 28, 28, 512)       2359808   \n",
      "                                                                 \n",
      " block4_conv3 (Conv2D)       (None, 28, 28, 512)       2359808   \n",
      "                                                                 \n",
      " block4_pool (MaxPooling2D)  (None, 14, 14, 512)       0         \n",
      "                                                                 \n",
      " block5_conv1 (Conv2D)       (None, 14, 14, 512)       2359808   \n",
      "                                                                 \n",
      " block5_conv2 (Conv2D)       (None, 14, 14, 512)       2359808   \n",
      "                                                                 \n",
      " block5_conv3 (Conv2D)       (None, 14, 14, 512)       2359808   \n",
      "                                                                 \n",
      " block5_pool (MaxPooling2D)  (None, 7, 7, 512)         0         \n",
      "                                                                 \n",
      " flatten (Flatten)           (None, 25088)             0         \n",
      "                                                                 \n",
      " fc1 (Dense)                 (None, 4096)              102764544 \n",
      "                                                                 \n",
      " fc2 (Dense)                 (None, 4096)              16781312  \n",
      "                                                                 \n",
      "=================================================================\n",
      "Total params: 134,260,544\n",
      "Trainable params: 134,260,544\n",
      "Non-trainable params: 0\n",
      "_________________________________________________________________\n",
      "None\n"
     ]
    }
   ],
   "source": [
    "# load vgg16 model\n",
    "model = VGG16()\n",
    "# restructure the model\n",
    "model = Model(inputs=model.inputs, outputs=model.layers[-2].output)\n",
    "print(model.summary())"
   ]
  },
  {
   "cell_type": "code",
   "execution_count": null,
   "metadata": {
    "id": "wTiaFSU88t9O"
   },
   "outputs": [],
   "source": [
    "# extract features from image\n",
    "features = {}\n",
    "directory = os.path.join(BASE_DIR, 'Images')\n",
    "\n",
    "for img_name in tqdm(os.listdir(directory)):\n",
    "    # load image\n",
    "    img_path = directory + '/' + img_name\n",
    "    image = load_img(img_path, target_size=(224, 224))\n",
    "    # convert image pixels to numpy array\n",
    "    image = img_to_array(image)\n",
    "    # reshape data for model\n",
    "    image = image.reshape((1, image.shape[0], image.shape[1], image.shape[2]))\n",
    "    # preprocess image for vgg\n",
    "    image = preprocess_input(image)\n",
    "    # extract features\n",
    "    feature = model.predict(image, verbose=0)\n",
    "    # get image ID (file img non .jpg)\n",
    "    image_id = img_name.split('.')[0]\n",
    "    \n",
    "    features[image_id] = feature"
   ]
  },
  {
   "cell_type": "code",
   "execution_count": null,
   "metadata": {
    "id": "F1BfOhneTRNg"
   },
   "outputs": [],
   "source": [
    "# Store features in pickle\n",
    "pickle.dump(features, open(os.path.join(WORKING_DIR, 'features.pkl'), 'wb'))"
   ]
  },
  {
   "cell_type": "code",
   "execution_count": null,
   "metadata": {
    "id": "0DBuUNe5T1pI"
   },
   "outputs": [],
   "source": [
    "# load features from pickle\n",
    "with open(os.path.join(WORKING_DIR, 'features.pkl'), 'rb') as f:\n",
    "  features = pickle.load(f)"
   ]
  },
  {
   "cell_type": "markdown",
   "metadata": {
    "id": "qs6SauYP_pG3"
   },
   "source": [
    "## **Processing Caption Data**"
   ]
  },
  {
   "cell_type": "code",
   "execution_count": null,
   "metadata": {
    "id": "-d4d39PA-Xhb"
   },
   "outputs": [],
   "source": [
    "with open(os.path.join(BASE_DIR, 'Hindi_Caption_Five_Sentences.txt'), 'r') as f:\n",
    "    next(f)\n",
    "    captions_doc = f.read()"
   ]
  },
  {
   "cell_type": "code",
   "execution_count": null,
   "metadata": {
    "colab": {
     "base_uri": "https://localhost:8080/",
     "height": 49,
     "referenced_widgets": [
      "d35c3ef6ef054bb49ed2b4328baa55fc",
      "4d3ce23300124ec5a1e81c39de6bc041",
      "79c31f473c4e4bf0b91c277da8298947",
      "a0b88230324645f1bf71540f0e2a5eeb",
      "1ef4873408da47aab5ca282af97ed0ed",
      "843d6578483a483bbf25b997dfbbfa4b",
      "9da290ab4846444e918c50e6a0ab080b",
      "24bd4c3f719b460aa2d4df2a242d56aa",
      "531089951948426b9143825c4f388fe5",
      "2e58eece4184454aac6df6542adf51df",
      "719d36cc23ea4a02a8b6dc9e7276d76b"
     ]
    },
    "executionInfo": {
     "elapsed": 24,
     "status": "ok",
     "timestamp": 1664508438908,
     "user": {
      "displayName": "BE Project",
      "userId": "01387424920775928334"
     },
     "user_tz": -330
    },
    "id": "D_lvezUW-p99",
    "outputId": "3085e7e9-d9b5-49c8-9f8d-c85fdbf0e699"
   },
   "outputs": [
    {
     "data": {
      "application/vnd.jupyter.widget-view+json": {
       "model_id": "d35c3ef6ef054bb49ed2b4328baa55fc",
       "version_major": 2,
       "version_minor": 0
      },
      "text/plain": [
       "  0%|          | 0/40450 [00:00<?, ?it/s]"
      ]
     },
     "metadata": {},
     "output_type": "display_data"
    }
   ],
   "source": [
    "# create mapping of image to captions\n",
    "mapping = {}\n",
    "# process lines\n",
    "for line in tqdm(captions_doc.split('\\n')):\n",
    "    # split the line by comma(,)\n",
    "    tokens = line.split(',')\n",
    "    if len(line) < 2:\n",
    "        continue\n",
    "    image_id, caption = tokens[0], tokens[1:]\n",
    "    # remove extension from image ID\n",
    "    image_id = image_id.split('.')[0]\n",
    "    # convert caption list to string\n",
    "    caption = \" \".join(caption)\n",
    "    # create list if needed\n",
    "    if image_id not in mapping:\n",
    "        mapping[image_id] = []\n",
    "    # store the caption\n",
    "    mapping[image_id].append(caption)"
   ]
  },
  {
   "cell_type": "code",
   "execution_count": null,
   "metadata": {
    "colab": {
     "base_uri": "https://localhost:8080/"
    },
    "executionInfo": {
     "elapsed": 9,
     "status": "ok",
     "timestamp": 1664508441364,
     "user": {
      "displayName": "BE Project",
      "userId": "01387424920775928334"
     },
     "user_tz": -330
    },
    "id": "FEUvHgTr-sIW",
    "outputId": "452ae749-feb6-4be3-889e-2360261a184e"
   },
   "outputs": [
    {
     "data": {
      "text/plain": [
       "8090"
      ]
     },
     "execution_count": 8,
     "metadata": {},
     "output_type": "execute_result"
    }
   ],
   "source": [
    "len(mapping)"
   ]
  },
  {
   "cell_type": "markdown",
   "metadata": {
    "id": "x7tKeSWI_1e-"
   },
   "source": [
    "**Preprocessing Text data**"
   ]
  },
  {
   "cell_type": "code",
   "execution_count": null,
   "metadata": {
    "id": "qX7nIgiFQJLd"
   },
   "outputs": [],
   "source": [
    "def clean(mapping):\n",
    "    for key, captions in mapping.items():\n",
    "        for i in range(len(captions)):\n",
    "            # take one caption at a time\n",
    "            caption = captions[i]\n",
    "            # preprocessing steps\n",
    "            # convert to lowercase\n",
    "            caption = caption.lower()\n",
    "            # replacing \".\" with \" । \"\n",
    "            caption = caption.replace('.', '।')\n",
    "            # delete digits, special chars, etc., \n",
    "            caption = caption.replace('[^A-Za-z]', '')\n",
    "            # delete additional spaces\n",
    "            caption = caption.replace('\\s+', ' ')\n",
    "            # add start and end tags to the caption\n",
    "            caption = 'startseq ' + \" \".join([word for word in caption.split() if len(word)>1]) + ' endseq'\n",
    "            captions[i] = caption"
   ]
  },
  {
   "cell_type": "code",
   "execution_count": null,
   "metadata": {
    "id": "zsvOaj1MOHBO"
   },
   "outputs": [],
   "source": [
    "# preprocess the text\n",
    "clean(mapping)"
   ]
  },
  {
   "cell_type": "code",
   "execution_count": null,
   "metadata": {
    "id": "HfOH669pRkLm"
   },
   "outputs": [],
   "source": [
    "all_captions = []\n",
    "for key in mapping:\n",
    "    for caption in mapping[key]:\n",
    "        all_captions.append(caption)"
   ]
  },
  {
   "cell_type": "code",
   "execution_count": null,
   "metadata": {
    "colab": {
     "base_uri": "https://localhost:8080/"
    },
    "executionInfo": {
     "elapsed": 6,
     "status": "ok",
     "timestamp": 1664508455707,
     "user": {
      "displayName": "BE Project",
      "userId": "01387424920775928334"
     },
     "user_tz": -330
    },
    "id": "Rg_tReZTR01a",
    "outputId": "14e36935-a2ac-470c-f6e2-a889ebbead1f"
   },
   "outputs": [
    {
     "data": {
      "text/plain": [
       "40450"
      ]
     },
     "execution_count": 12,
     "metadata": {},
     "output_type": "execute_result"
    }
   ],
   "source": [
    "len(all_captions)"
   ]
  },
  {
   "cell_type": "code",
   "execution_count": null,
   "metadata": {
    "colab": {
     "base_uri": "https://localhost:8080/"
    },
    "executionInfo": {
     "elapsed": 7,
     "status": "ok",
     "timestamp": 1664508463443,
     "user": {
      "displayName": "BE Project",
      "userId": "01387424920775928334"
     },
     "user_tz": -330
    },
    "id": "A-Caml2AR-mF",
    "outputId": "21c3c86d-ed96-4821-d05e-126fbb749a47"
   },
   "outputs": [
    {
     "data": {
      "text/plain": [
       "['startseq गुलाबी पोशाक में बच्चा प्रवेश के रास्ते में सीढ़ियों के सेट पर चढ़ रहा है। endseq',\n",
       " 'startseq लड़की लकड़ी की इमारत में जा रही है। endseq',\n",
       " 'startseq छोटी लड़की लकड़ी के प्लेहाउस में चढ़ गई। endseq']"
      ]
     },
     "execution_count": 13,
     "metadata": {},
     "output_type": "execute_result"
    }
   ],
   "source": [
    "all_captions[:3]"
   ]
  },
  {
   "cell_type": "code",
   "execution_count": null,
   "metadata": {
    "id": "iR23xy8BSEHv"
   },
   "outputs": [],
   "source": [
    "# tokenize the text\n",
    "tokenizer = Tokenizer()\n",
    "tokenizer.fit_on_texts(all_captions)\n",
    "vocab_size = len(tokenizer.word_index) + 1"
   ]
  },
  {
   "cell_type": "code",
   "execution_count": null,
   "metadata": {
    "colab": {
     "base_uri": "https://localhost:8080/"
    },
    "executionInfo": {
     "elapsed": 30,
     "status": "ok",
     "timestamp": 1664508476222,
     "user": {
      "displayName": "BE Project",
      "userId": "01387424920775928334"
     },
     "user_tz": -330
    },
    "id": "aUWlOjiSiGzO",
    "outputId": "2e10b44a-6aed-47e1-e05b-cf451308cb7e"
   },
   "outputs": [
    {
     "data": {
      "text/plain": [
       "37"
      ]
     },
     "execution_count": 15,
     "metadata": {},
     "output_type": "execute_result"
    }
   ],
   "source": [
    "# get maximum length of the caption available\n",
    "max_length = max(len(caption.split()) for caption in all_captions)\n",
    "max_length"
   ]
  },
  {
   "cell_type": "markdown",
   "metadata": {
    "id": "tR5egCysAR4H"
   },
   "source": [
    "## **Training Model**"
   ]
  },
  {
   "cell_type": "code",
   "execution_count": null,
   "metadata": {
    "id": "ZMRw3RLtSXeg"
   },
   "outputs": [],
   "source": [
    "image_ids = list(mapping.keys())\n",
    "split = int(len(image_ids) * 0.80)\n",
    "train = image_ids[:split]\n",
    "test = image_ids[split:]"
   ]
  },
  {
   "cell_type": "code",
   "execution_count": null,
   "metadata": {
    "id": "h4NKAjQVVtYV"
   },
   "outputs": [],
   "source": [
    "# create data generator to get data in batch (avoids session crash)\n",
    "def data_generator(data_keys, mapping, features, tokenizer, max_length, vocab_size, batch_size):\n",
    "    # loop over images\n",
    "    X1, X2, y = list(), list(), list()\n",
    "    n = 0\n",
    "    while 1:\n",
    "        for key in data_keys:\n",
    "            n += 1\n",
    "            captions = mapping[key]\n",
    "            # process each caption\n",
    "            for caption in captions:\n",
    "                # encode the sequence\n",
    "                seq = tokenizer.texts_to_sequences([caption])[0]\n",
    "                # split the sequence into X, y pairs\n",
    "                for i in range(1, len(seq)):\n",
    "                    # split into input and output pairs\n",
    "                    in_seq, out_seq = seq[:i], seq[i]\n",
    "                    # pad input sequence\n",
    "                    in_seq = pad_sequences([in_seq], maxlen=max_length)[0]\n",
    "                    # encode output sequence\n",
    "                    out_seq = to_categorical([out_seq], num_classes=vocab_size)[0]\n",
    "                    \n",
    "                    # store the sequences\n",
    "                    X1.append(features[key][0])\n",
    "                    X2.append(in_seq)\n",
    "                    y.append(out_seq)\n",
    "            if n == batch_size:\n",
    "                X1, X2, y = np.array(X1), np.array(X2), np.array(y)\n",
    "                yield [X1, X2], y\n",
    "                X1, X2, y = list(), list(), list()\n",
    "                n = 0"
   ]
  },
  {
   "cell_type": "code",
   "execution_count": null,
   "metadata": {
    "id": "pep3xGohWESZ"
   },
   "outputs": [],
   "source": [
    "# Encoder model\n",
    "inputs1 = Input(shape=(4096,))\n",
    "fe1 = Dropout(0.4)(inputs1)\n",
    "fe2 = Dense(256, activation='relu')(fe1)\n",
    "\n",
    "# Sequence feature layers\n",
    "inputs2 = Input(shape=(max_length,))\n",
    "se1 = Embedding(vocab_size, 256, mask_zero=True)(inputs2)\n",
    "se2 = Dropout(0.4)(se1)\n",
    "se3 = LSTM(256)(se2)\n",
    "\n",
    "# Decoder model\n",
    "decoder1 = add([fe2, se3])\n",
    "decoder2 = Dense(256, activation='relu')(decoder1)\n",
    "outputs = Dense(vocab_size, activation='softmax')(decoder2)\n",
    "\n",
    "model = Model(inputs=[inputs1, inputs2], outputs=outputs)\n",
    "model.compile(loss='categorical_crossentropy', optimizer='adam')\n"
   ]
  },
  {
   "cell_type": "code",
   "execution_count": null,
   "metadata": {
    "colab": {
     "base_uri": "https://localhost:8080/",
     "height": 701
    },
    "executionInfo": {
     "elapsed": 1145,
     "status": "ok",
     "timestamp": 1664508520337,
     "user": {
      "displayName": "BE Project",
      "userId": "01387424920775928334"
     },
     "user_tz": -330
    },
    "id": "4X-KzazVjmnS",
    "outputId": "b6318a27-169c-4f01-f230-87108b8249f3"
   },
   "outputs": [
    {
     "data": {
      "image/png": "[encoded data removed]",
      "text/plain": [
       "<IPython.core.display.Image object>"
      ]
     },
     "execution_count": 19,
     "metadata": {},
     "output_type": "execute_result"
    }
   ],
   "source": [
    "# Plot the model\n",
    "plot_model(model, show_layer_activations=True)"
   ]
  },
  {
   "cell_type": "code",
   "execution_count": null,
   "metadata": {
    "colab": {
     "base_uri": "https://localhost:8080/"
    },
    "executionInfo": {
     "elapsed": 2576427,
     "status": "ok",
     "timestamp": 1664516850450,
     "user": {
      "displayName": "BE Project",
      "userId": "01387424920775928334"
     },
     "user_tz": -330
    },
    "id": "YBM3h3dVWiYC",
    "outputId": "1e737649-e86e-4179-8e55-d5ce39e6e3a0"
   },
   "outputs": [
    {
     "name": "stdout",
     "output_type": "stream",
     "text": [
      "Epoch 1/100\n",
      "404/404 [==============================] - 93s 213ms/step - loss: 0.0080 - accuracy: 0.0722\n",
      "Epoch 2/100\n",
      "404/404 [==============================] - 85s 209ms/step - loss: 7.0985e-04 - accuracy: 0.0845\n",
      "Epoch 3/100\n",
      "404/404 [==============================] - 86s 213ms/step - loss: 6.8399e-04 - accuracy: 0.0961\n",
      "Epoch 4/100\n",
      "404/404 [==============================] - 84s 208ms/step - loss: 6.6275e-04 - accuracy: 0.1127\n",
      "Epoch 5/100\n",
      "404/404 [==============================] - 86s 212ms/step - loss: 6.4912e-04 - accuracy: 0.1172\n",
      "Epoch 6/100\n",
      "404/404 [==============================] - 85s 210ms/step - loss: 6.2922e-04 - accuracy: 0.1258\n",
      "Epoch 7/100\n",
      "404/404 [==============================] - 85s 211ms/step - loss: 6.0551e-04 - accuracy: 0.1439\n",
      "Epoch 8/100\n",
      "404/404 [==============================] - 84s 208ms/step - loss: 5.7671e-04 - accuracy: 0.1808\n",
      "Epoch 9/100\n",
      "404/404 [==============================] - 86s 212ms/step - loss: 5.4864e-04 - accuracy: 0.2097\n",
      "Epoch 10/100\n",
      "404/404 [==============================] - 84s 208ms/step - loss: 5.2418e-04 - accuracy: 0.2340\n",
      "Epoch 11/100\n",
      "404/404 [==============================] - 85s 210ms/step - loss: 5.0203e-04 - accuracy: 0.2594\n",
      "Epoch 12/100\n",
      "404/404 [==============================] - 84s 208ms/step - loss: 4.8025e-04 - accuracy: 0.2845\n",
      "Epoch 13/100\n",
      "404/404 [==============================] - 85s 210ms/step - loss: 4.6203e-04 - accuracy: 0.3030\n",
      "Epoch 14/100\n",
      "404/404 [==============================] - 84s 208ms/step - loss: 4.4813e-04 - accuracy: 0.3175\n",
      "Epoch 15/100\n",
      "404/404 [==============================] - 83s 206ms/step - loss: 4.3669e-04 - accuracy: 0.3289\n",
      "Epoch 16/100\n",
      "404/404 [==============================] - 85s 210ms/step - loss: 4.2530e-04 - accuracy: 0.3396\n",
      "Epoch 17/100\n",
      "404/404 [==============================] - 83s 207ms/step - loss: 4.1506e-04 - accuracy: 0.3488\n",
      "Epoch 18/100\n",
      "404/404 [==============================] - 85s 210ms/step - loss: 4.0566e-04 - accuracy: 0.3563\n",
      "Epoch 19/100\n",
      "404/404 [==============================] - 83s 206ms/step - loss: 3.9664e-04 - accuracy: 0.3635\n",
      "Epoch 20/100\n",
      "404/404 [==============================] - 84s 209ms/step - loss: 3.8906e-04 - accuracy: 0.3703\n",
      "Epoch 21/100\n",
      "404/404 [==============================] - 83s 204ms/step - loss: 3.8187e-04 - accuracy: 0.3768\n",
      "Epoch 22/100\n",
      "404/404 [==============================] - 84s 207ms/step - loss: 3.7513e-04 - accuracy: 0.3828\n",
      "Epoch 23/100\n",
      "404/404 [==============================] - 83s 205ms/step - loss: 3.6872e-04 - accuracy: 0.3887\n",
      "Epoch 24/100\n",
      "404/404 [==============================] - 85s 211ms/step - loss: 3.6242e-04 - accuracy: 0.3948\n",
      "Epoch 25/100\n",
      "404/404 [==============================] - 83s 206ms/step - loss: 3.5680e-04 - accuracy: 0.4001\n",
      "Epoch 26/100\n",
      "404/404 [==============================] - 84s 208ms/step - loss: 3.5156e-04 - accuracy: 0.4064\n",
      "Epoch 27/100\n",
      "404/404 [==============================] - 85s 209ms/step - loss: 3.4647e-04 - accuracy: 0.4107\n",
      "Epoch 28/100\n",
      "404/404 [==============================] - 83s 205ms/step - loss: 3.4155e-04 - accuracy: 0.4168\n",
      "Epoch 29/100\n",
      "404/404 [==============================] - 83s 207ms/step - loss: 3.3709e-04 - accuracy: 0.4226\n",
      "Epoch 30/100\n",
      "404/404 [==============================] - 83s 205ms/step - loss: 3.3309e-04 - accuracy: 0.4278\n",
      "Epoch 31/100\n",
      "404/404 [==============================] - 84s 208ms/step - loss: 3.2892e-04 - accuracy: 0.4326\n",
      "Epoch 32/100\n",
      "404/404 [==============================] - 83s 205ms/step - loss: 3.2557e-04 - accuracy: 0.4370\n",
      "Epoch 33/100\n",
      "404/404 [==============================] - 84s 207ms/step - loss: 3.2242e-04 - accuracy: 0.4410\n",
      "Epoch 34/100\n",
      "404/404 [==============================] - 82s 203ms/step - loss: 3.1909e-04 - accuracy: 0.4455\n",
      "Epoch 35/100\n",
      "404/404 [==============================] - 83s 206ms/step - loss: 3.1623e-04 - accuracy: 0.4492\n",
      "Epoch 36/100\n",
      "404/404 [==============================] - 83s 204ms/step - loss: 3.1333e-04 - accuracy: 0.4532\n",
      "Epoch 37/100\n",
      "404/404 [==============================] - 84s 208ms/step - loss: 3.1060e-04 - accuracy: 0.4563\n",
      "Epoch 38/100\n",
      "404/404 [==============================] - 83s 206ms/step - loss: 3.0807e-04 - accuracy: 0.4605\n",
      "Epoch 39/100\n",
      "404/404 [==============================] - 82s 203ms/step - loss: 3.0530e-04 - accuracy: 0.4645\n",
      "Epoch 40/100\n",
      "404/404 [==============================] - 83s 205ms/step - loss: 3.0339e-04 - accuracy: 0.4670\n",
      "Epoch 41/100\n",
      "404/404 [==============================] - 82s 204ms/step - loss: 3.0096e-04 - accuracy: 0.4704\n",
      "Epoch 42/100\n",
      "404/404 [==============================] - 83s 206ms/step - loss: 2.9889e-04 - accuracy: 0.4733\n",
      "Epoch 43/100\n",
      "404/404 [==============================] - 82s 203ms/step - loss: 2.9647e-04 - accuracy: 0.4768\n",
      "Epoch 44/100\n",
      "404/404 [==============================] - 83s 206ms/step - loss: 2.9489e-04 - accuracy: 0.4788\n",
      "Epoch 45/100\n",
      "404/404 [==============================] - 82s 202ms/step - loss: 2.9274e-04 - accuracy: 0.4819\n",
      "Epoch 46/100\n",
      "404/404 [==============================] - 83s 206ms/step - loss: 2.9124e-04 - accuracy: 0.4840\n",
      "Epoch 47/100\n",
      "404/404 [==============================] - 83s 206ms/step - loss: 2.8952e-04 - accuracy: 0.4870\n",
      "Epoch 48/100\n",
      "404/404 [==============================] - 83s 206ms/step - loss: 2.8775e-04 - accuracy: 0.4896\n",
      "Epoch 49/100\n",
      "404/404 [==============================] - 82s 204ms/step - loss: 2.8597e-04 - accuracy: 0.4920\n",
      "Epoch 50/100\n",
      "404/404 [==============================] - 82s 204ms/step - loss: 2.8482e-04 - accuracy: 0.4939\n",
      "Epoch 51/100\n",
      "404/404 [==============================] - 83s 205ms/step - loss: 2.8370e-04 - accuracy: 0.4955\n",
      "Epoch 52/100\n",
      "404/404 [==============================] - 81s 202ms/step - loss: 2.8184e-04 - accuracy: 0.4985\n",
      "Epoch 53/100\n",
      "404/404 [==============================] - 84s 207ms/step - loss: 2.8042e-04 - accuracy: 0.5012\n",
      "Epoch 54/100\n",
      "404/404 [==============================] - 82s 203ms/step - loss: 2.7915e-04 - accuracy: 0.5031\n",
      "Epoch 55/100\n",
      "404/404 [==============================] - 83s 205ms/step - loss: 2.7783e-04 - accuracy: 0.5054\n",
      "Epoch 56/100\n",
      "404/404 [==============================] - 82s 203ms/step - loss: 2.7672e-04 - accuracy: 0.5066\n",
      "Epoch 57/100\n",
      "404/404 [==============================] - 84s 207ms/step - loss: 2.7569e-04 - accuracy: 0.5082\n",
      "Epoch 58/100\n",
      "404/404 [==============================] - 82s 203ms/step - loss: 2.7399e-04 - accuracy: 0.5120\n",
      "Epoch 59/100\n",
      "404/404 [==============================] - 83s 204ms/step - loss: 2.7303e-04 - accuracy: 0.5124\n",
      "Epoch 60/100\n",
      "404/404 [==============================] - 81s 201ms/step - loss: 2.7213e-04 - accuracy: 0.5141\n",
      "Epoch 61/100\n",
      "404/404 [==============================] - 82s 203ms/step - loss: 2.7070e-04 - accuracy: 0.5164\n",
      "Epoch 62/100\n",
      "404/404 [==============================] - 81s 201ms/step - loss: 2.6985e-04 - accuracy: 0.5184\n",
      "Epoch 63/100\n",
      "404/404 [==============================] - 83s 205ms/step - loss: 2.6889e-04 - accuracy: 0.5193\n",
      "Epoch 64/100\n",
      "404/404 [==============================] - 81s 201ms/step - loss: 2.6775e-04 - accuracy: 0.5215\n",
      "Epoch 65/100\n",
      "404/404 [==============================] - 83s 205ms/step - loss: 2.6684e-04 - accuracy: 0.5233\n",
      "Epoch 66/100\n",
      "404/404 [==============================] - 81s 201ms/step - loss: 2.6602e-04 - accuracy: 0.5252\n",
      "Epoch 67/100\n",
      "404/404 [==============================] - 83s 205ms/step - loss: 2.6487e-04 - accuracy: 0.5260\n",
      "Epoch 68/100\n",
      "404/404 [==============================] - 81s 200ms/step - loss: 2.6429e-04 - accuracy: 0.5276\n",
      "Epoch 69/100\n",
      "404/404 [==============================] - 83s 205ms/step - loss: 2.6301e-04 - accuracy: 0.5296\n",
      "Epoch 70/100\n",
      "404/404 [==============================] - 81s 201ms/step - loss: 2.6238e-04 - accuracy: 0.5310\n",
      "Epoch 71/100\n",
      "404/404 [==============================] - 82s 203ms/step - loss: 2.6148e-04 - accuracy: 0.5320\n",
      "Epoch 72/100\n",
      "404/404 [==============================] - 82s 202ms/step - loss: 2.6065e-04 - accuracy: 0.5332\n",
      "Epoch 73/100\n",
      "404/404 [==============================] - 82s 203ms/step - loss: 2.5983e-04 - accuracy: 0.5358\n",
      "Epoch 74/100\n",
      "404/404 [==============================] - 82s 202ms/step - loss: 2.5882e-04 - accuracy: 0.5368\n",
      "Epoch 75/100\n",
      "404/404 [==============================] - 83s 206ms/step - loss: 2.5821e-04 - accuracy: 0.5382\n",
      "Epoch 76/100\n",
      "404/404 [==============================] - 82s 202ms/step - loss: 2.5749e-04 - accuracy: 0.5391\n",
      "Epoch 77/100\n",
      "404/404 [==============================] - 82s 204ms/step - loss: 2.5654e-04 - accuracy: 0.5400\n",
      "Epoch 78/100\n",
      "404/404 [==============================] - 82s 203ms/step - loss: 2.5596e-04 - accuracy: 0.5424\n",
      "Epoch 79/100\n",
      "404/404 [==============================] - 82s 202ms/step - loss: 2.5512e-04 - accuracy: 0.5433\n",
      "Epoch 80/100\n",
      "404/404 [==============================] - 82s 203ms/step - loss: 2.5451e-04 - accuracy: 0.5447\n",
      "Epoch 81/100\n",
      "404/404 [==============================] - 82s 203ms/step - loss: 2.5389e-04 - accuracy: 0.5462\n",
      "Epoch 82/100\n",
      "404/404 [==============================] - 82s 203ms/step - loss: 2.5285e-04 - accuracy: 0.5467\n",
      "Epoch 83/100\n",
      "404/404 [==============================] - 82s 202ms/step - loss: 2.5217e-04 - accuracy: 0.5484\n",
      "Epoch 84/100\n",
      "404/404 [==============================] - 82s 203ms/step - loss: 2.5140e-04 - accuracy: 0.5498\n",
      "Epoch 85/100\n",
      "404/404 [==============================] - 81s 200ms/step - loss: 2.5101e-04 - accuracy: 0.5501\n",
      "Epoch 86/100\n",
      "404/404 [==============================] - 83s 204ms/step - loss: 2.5031e-04 - accuracy: 0.5515\n",
      "Epoch 87/100\n",
      "404/404 [==============================] - 81s 202ms/step - loss: 2.4968e-04 - accuracy: 0.5535\n",
      "Epoch 88/100\n",
      "404/404 [==============================] - 82s 204ms/step - loss: 2.4884e-04 - accuracy: 0.5539\n",
      "Epoch 89/100\n",
      "404/404 [==============================] - 81s 200ms/step - loss: 2.4821e-04 - accuracy: 0.5554\n",
      "Epoch 90/100\n",
      "404/404 [==============================] - 82s 202ms/step - loss: 2.4760e-04 - accuracy: 0.5565\n",
      "Epoch 91/100\n",
      "404/404 [==============================] - 81s 200ms/step - loss: 2.4686e-04 - accuracy: 0.5580\n",
      "Epoch 92/100\n",
      "404/404 [==============================] - 82s 202ms/step - loss: 2.4662e-04 - accuracy: 0.5592\n",
      "Epoch 93/100\n",
      "404/404 [==============================] - 81s 200ms/step - loss: 2.4588e-04 - accuracy: 0.5601\n",
      "Epoch 94/100\n",
      "404/404 [==============================] - 82s 202ms/step - loss: 2.4534e-04 - accuracy: 0.5606\n",
      "Epoch 95/100\n",
      "404/404 [==============================] - 83s 205ms/step - loss: 2.4428e-04 - accuracy: 0.5624\n",
      "Epoch 96/100\n",
      "404/404 [==============================] - 82s 202ms/step - loss: 2.4410e-04 - accuracy: 0.5630\n",
      "Epoch 97/100\n",
      "404/404 [==============================] - 81s 200ms/step - loss: 2.4339e-04 - accuracy: 0.5641\n",
      "Epoch 98/100\n",
      "404/404 [==============================] - 81s 201ms/step - loss: 2.4278e-04 - accuracy: 0.5652\n",
      "Epoch 99/100\n",
      "404/404 [==============================] - 81s 199ms/step - loss: 2.4202e-04 - accuracy: 0.5674\n",
      "Epoch 100/100\n",
      "404/404 [==============================] - 83s 205ms/step - loss: 2.4160e-04 - accuracy: 0.5680\n"
     ]
    }
   ],
   "source": [
    "# Train the model\n",
    "epochs = 100\n",
    "batch_size = 16\n",
    "steps = len(train) // batch_size\n",
    "\n",
    "# Create data generator\n",
    "generator = data_generator(train, mapping, features, tokenizer, max_length, vocab_size, batch_size)\n",
    "# Compile model\n",
    "model.compile(loss='binary_crossentropy', optimizer='adam', metrics=['accuracy'])\n",
    "# Fit model\n",
    "history = model.fit(generator, epochs=epochs, steps_per_epoch=steps, verbose=1)"
   ]
  },
  {
   "cell_type": "code",
   "execution_count": null,
   "metadata": {
    "colab": {
     "base_uri": "https://localhost:8080/",
     "height": 573
    },
    "executionInfo": {
     "elapsed": 2867,
     "status": "ok",
     "timestamp": 1664516862439,
     "user": {
      "displayName": "BE Project",
      "userId": "01387424920775928334"
     },
     "user_tz": -330
    },
    "id": "IOD5ozvm4YUL",
    "outputId": "e2b4ebe5-1193-4bb2-9178-44039972bd3b"
   },
   "outputs": [
    {
     "data": {
      "image/png": "[encoded data removed]",
      "text/plain": [
       "<Figure size 432x288 with 1 Axes>"
      ]
     },
     "metadata": {
      "needs_background": "light"
     },
     "output_type": "display_data"
    },
    {
     "data": {
      "image/png": "[encoded data removed]",
      "text/plain": [
       "<Figure size 432x288 with 1 Axes>"
      ]
     },
     "metadata": {
      "needs_background": "light"
     },
     "output_type": "display_data"
    }
   ],
   "source": [
    "import matplotlib.pyplot as plt\n",
    "\n",
    "# Summarize history for accuracy\n",
    "plt.plot(history.history['accuracy'])\n",
    "plt.title('Model accuracy')\n",
    "plt.ylabel('Accuracy')\n",
    "plt.xlabel('Epoch')\n",
    "plt.show()\n",
    "\n",
    "# Summarize history for loss\n",
    "plt.plot(history.history['loss'])\n",
    "plt.title('Model loss')\n",
    "plt.ylabel('Loss')\n",
    "plt.xlabel('Epoch')\n",
    "plt.show()"
   ]
  },
  {
   "cell_type": "code",
   "execution_count": null,
   "metadata": {
    "id": "Y6aIjmR54j6U"
   },
   "outputs": [],
   "source": [
    "# Save the model\n",
    "model.save(WORKING_DIR+'/hindi_model_one.h5')"
   ]
  },
  {
   "cell_type": "markdown",
   "metadata": {
    "id": "bhnHneK5gcDq"
   },
   "source": [
    "# **Testing Model**"
   ]
  },
  {
   "cell_type": "code",
   "execution_count": null,
   "metadata": {
    "id": "I54m7RSRgjlU"
   },
   "outputs": [],
   "source": [
    "import numpy as np\n",
    "import pandas as pd\n",
    "\n",
    "import os\n",
    "import pickle\n",
    "from tqdm.notebook import tqdm\n",
    "import string\n",
    "\n",
    "from tensorflow.keras.applications.vgg16 import VGG16, preprocess_input\n",
    "from tensorflow.keras.preprocessing.image import load_img, img_to_array\n",
    "from tensorflow.keras.preprocessing.text import Tokenizer\n",
    "from tensorflow.keras.preprocessing.sequence import pad_sequences\n",
    "from tensorflow.keras.models import Model\n",
    "from tensorflow.keras.utils import to_categorical, plot_model\n",
    "from tensorflow.keras.layers import Input, Dense, LSTM, Embedding, Dropout, add\n",
    "from tensorflow.keras.models import load_model"
   ]
  },
  {
   "cell_type": "code",
   "execution_count": null,
   "metadata": {
    "id": "atQD1VzVoODO"
   },
   "outputs": [],
   "source": [
    "R_DIR=os.getcwd()\n",
    "BASE_DIR = os.path.join(R_DIR, 'Dataset')\n",
    "WORKING_DIR = os.path.join(R_DIR, 'Models')"
   ]
  },
  {
   "cell_type": "code",
   "execution_count": null,
   "metadata": {
    "id": "wXXb_REbkMsY"
   },
   "outputs": [],
   "source": [
    "# load features from pickle\n",
    "with open(os.path.join(WORKING_DIR, 'features.pkl'), 'rb') as f:\n",
    "  features = pickle.load(f)"
   ]
  },
  {
   "cell_type": "code",
   "execution_count": null,
   "metadata": {
    "colab": {
     "base_uri": "https://localhost:8080/",
     "height": 49,
     "referenced_widgets": [
      "9ddf9578065d409baefae1fe103c3634",
      "52575668c5d8462d8dd7c81d7362c8ff",
      "a503dcb2dcc24f2a96d2bd8dd9f57c19",
      "9b766fd248174f74b464544267fbcdad",
      "1bfa2f10d40345bf892a24fb952b30b8",
      "3a218a58a16548198fc4b43979f95028",
      "e3bddf4c3b3c4b9dbd47f9d5b2c7f843",
      "d657fcac1aeb416bbb2d9d0e5b570cf4",
      "27a3436f9f394b27b3bbcc54f44cf4fa",
      "9c691b47d0894d75a6893e68111530f2",
      "bd93a47eeb654d6eaa9b1c1329709fbb"
     ]
    },
    "executionInfo": {
     "elapsed": 1435,
     "status": "ok",
     "timestamp": 1664461839798,
     "user": {
      "displayName": "BE Project",
      "userId": "01387424920775928334"
     },
     "user_tz": -330
    },
    "id": "KVhEtQRnkbJy",
    "outputId": "1b41fe39-87bb-4cab-d7d4-eb4a3c19b1c1"
   },
   "outputs": [
    {
     "data": {
      "application/vnd.jupyter.widget-view+json": {
       "model_id": "9ddf9578065d409baefae1fe103c3634",
       "version_major": 2,
       "version_minor": 0
      },
      "text/plain": [
       "  0%|          | 0/40450 [00:00<?, ?it/s]"
      ]
     },
     "metadata": {},
     "output_type": "display_data"
    }
   ],
   "source": [
    "with open(os.path.join(BASE_DIR, 'Hindi_Caption_Five_Sentences.txt'), 'r') as f:\n",
    "    next(f)\n",
    "    captions_doc = f.read()\n",
    "\n",
    "# create mapping of image to captions\n",
    "mapping = {}\n",
    "# process lines\n",
    "for line in tqdm(captions_doc.split('\\n')):\n",
    "    # split the line by comma(,)\n",
    "    tokens = line.split(',')\n",
    "    if len(line) < 2:\n",
    "        continue\n",
    "    image_id, caption = tokens[0], tokens[1:]\n",
    "    # remove extension from image ID\n",
    "    image_id = image_id.split('.')[0]\n",
    "    # convert caption list to string\n",
    "    caption = \" \".join(caption)\n",
    "    # create list if needed\n",
    "    if image_id not in mapping:\n",
    "        mapping[image_id] = []\n",
    "    # store the caption\n",
    "    mapping[image_id].append(caption)"
   ]
  },
  {
   "cell_type": "code",
   "execution_count": null,
   "metadata": {
    "id": "6GS5V9Dpkhnt"
   },
   "outputs": [],
   "source": [
    "def clean(mapping):\n",
    "    for key, captions in mapping.items():\n",
    "        for i in range(len(captions)):\n",
    "            # take one caption at a time\n",
    "            caption = captions[i]\n",
    "            # preprocessing steps\n",
    "            # convert to lowercase\n",
    "            caption = caption.lower()\n",
    "            # replacing \".\" with \" । \"\n",
    "            caption = caption.replace('.', '।')\n",
    "            # delete digits, special chars, etc., \n",
    "            caption = caption.replace('[^A-Za-z]', '')\n",
    "            # delete additional spaces\n",
    "            caption = caption.replace('\\s+', ' ')\n",
    "            # add start and end tags to the caption\n",
    "            caption = 'startseq ' + \" \".join([word for word in caption.split() if len(word)>1]) + ' endseq'\n",
    "            captions[i] = caption\n",
    "\n",
    "clean(mapping)"
   ]
  },
  {
   "cell_type": "code",
   "execution_count": null,
   "metadata": {
    "id": "jMCGwhtPlB6j"
   },
   "outputs": [],
   "source": [
    "all_captions = []\n",
    "for key in mapping:\n",
    "    for caption in mapping[key]:\n",
    "        all_captions.append(caption)\n",
    "\n",
    "# tokenize the text\n",
    "tokenizer = Tokenizer()\n",
    "tokenizer.fit_on_texts(all_captions)\n",
    "vocab_size = len(tokenizer.word_index) + 1\n",
    "\n",
    "# get maximum length of the caption available\n",
    "max_length = max(len(caption.split()) for caption in all_captions)"
   ]
  },
  {
   "cell_type": "code",
   "execution_count": null,
   "metadata": {
    "id": "sp9tzfIOkDVu"
   },
   "outputs": [],
   "source": [
    "def idx_to_word(integer, tokenizer):\n",
    "    for word, index in tokenizer.word_index.items():\n",
    "        if index == integer:\n",
    "            return word\n",
    "    return None\n",
    "\n",
    "def predict_caption(model, image, tokenizer, max_length):\n",
    "    # Add start tag for generation process\n",
    "    in_text = 'startseq'\n",
    "    \n",
    "    for i in range(max_length):\n",
    "        # Encode input sequence\n",
    "        sequence = tokenizer.texts_to_sequences([in_text])[0]\n",
    "        # Pad the sequence\n",
    "        sequence = pad_sequences([sequence], max_length)\n",
    "        # Predict next word\n",
    "        yhat = model.predict([image, sequence], verbose=0)\n",
    "        # Get index with high probability\n",
    "        yhat = np.argmax(yhat)\n",
    "        # Convert index to word\n",
    "        word = idx_to_word(yhat, tokenizer)\n",
    "        # Stop if word not found\n",
    "        if word is None:\n",
    "            break\n",
    "        # Append word as input for generating next word\n",
    "        in_text += \" \" + word\n",
    "        # Stop if we reach end tag\n",
    "        if word == 'endseq':\n",
    "            break\n",
    "    return in_text"
   ]
  },
  {
   "cell_type": "code",
   "execution_count": null,
   "metadata": {
    "id": "aJO-oXhJXvZN"
   },
   "outputs": [],
   "source": [
    "# Loading model\n",
    "model = load_model(WORKING_DIR+'/hindi_model_one.h5')"
   ]
  },
  {
   "cell_type": "code",
   "execution_count": null,
   "metadata": {
    "id": "-TJztkwzYXFv"
   },
   "outputs": [],
   "source": [
    "def extract_features_for_one_image(filename):\n",
    "    model = VGG16()\n",
    "    model.layers.pop()\n",
    "    model = Model(inputs = model.inputs , outputs = model.layers[-2].output)\n",
    "    image = load_img(filename , target_size=(224,224))\n",
    "    image = img_to_array(image)\n",
    "    image = image.reshape((1,image.shape[0],image.shape[1],image.shape[2]))\n",
    "    image = preprocess_input(image)\n",
    "    feature = model.predict(image , verbose = 0)\n",
    "    return feature"
   ]
  },
  {
   "cell_type": "code",
   "execution_count": null,
   "metadata": {
    "id": "rt6ibIxIYs6x"
   },
   "outputs": [],
   "source": [
    "from PIL import Image\n",
    "import matplotlib.pyplot as plt\n",
    "def generate_cap(pth):\n",
    "  image = extract_features_for_one_image(pth)\n",
    "  description = predict_caption(model, image, tokenizer, max_length)\n",
    "  print('--------------------Predicted--------------------)\n",
    "  print(description)\n",
    "  image = Image.open(pth)\n",
    "  plt.imshow(image)\n",
    "  plt.show()"
   ]
  },
  {
   "cell_type": "code",
   "execution_count": null,
   "metadata": {
    "colab": {
     "base_uri": "https://localhost:8080/",
     "height": 304
    },
    "executionInfo": {
     "elapsed": 3937,
     "status": "ok",
     "timestamp": 1664518208860,
     "user": {
      "displayName": "BE Project",
      "userId": "01387424920775928334"
     },
     "user_tz": -330
    },
    "id": "nSIUvLPjlehc",
    "outputId": "04a0a6a7-ee3b-4673-f372-776072dc75ff"
   },
   "outputs": [
    {
     "name": "stdout",
     "output_type": "stream",
     "text": [
      "--------------------Predicted--------------------\n",
      "startseq साइकिल पर सवार लोग अपनी बाइक पर संतुलन बना रहा है। endseq\n"
     ]
    },
    {
     "data": {
      "image/png": "[encoded data removed]",
      "text/plain": [
       "<Figure size 432x288 with 1 Axes>"
      ]
     },
     "metadata": {
      "needs_background": "light"
     },
     "output_type": "display_data"
    }
   ],
   "source": [
    "print(\"Enter Image Path:\")\n",
    "pth = input()\n",
    "pth=pth.replace('\"','') #Comment this line if executing in colab\n",
    "generate_cap(pth)"
   ]
  }
 ],
 "metadata": {
  "accelerator": "GPU",
  "colab": {
   "authorship_tag": "ABX9TyPr8jgM7lqRfVe7mbYL2l7b",
   "collapsed_sections": [
    "3J2tCe2qA_ts",
    "-dL59utkoCv4",
    "oPsvMUL1ojf4"
   ],
   "provenance": []
  },
  "kernelspec": {
   "display_name": "Python 3 (ipykernel)",
   "language": "python",
   "name": "python3"
  },
  "language_info": {
   "codemirror_mode": {
    "name": "ipython",
    "version": 3
   },
   "file_extension": ".py",
   "mimetype": "text/x-python",
   "name": "python",
   "nbconvert_exporter": "python",
   "pygments_lexer": "ipython3",
   "version": "3.9.13"
  },
  "widgets": {
   "application/vnd.jupyter.widget-state+json": {
    "1bfa2f10d40345bf892a24fb952b30b8": {
     "model_module": "@jupyter-widgets/base",
     "model_module_version": "1.2.0",
     "model_name": "LayoutModel",
     "state": {
      "_model_module": "@jupyter-widgets/base",
      "_model_module_version": "1.2.0",
      "_model_name": "LayoutModel",
      "_view_count": null,
      "_view_module": "@jupyter-widgets/base",
      "_view_module_version": "1.2.0",
      "_view_name": "LayoutView",
      "align_content": null,
      "align_items": null,
      "align_self": null,
      "border": null,
      "bottom": null,
      "display": null,
      "flex": null,
      "flex_flow": null,
      "grid_area": null,
      "grid_auto_columns": null,
      "grid_auto_flow": null,
      "grid_auto_rows": null,
      "grid_column": null,
      "grid_gap": null,
      "grid_row": null,
      "grid_template_areas": null,
      "grid_template_columns": null,
      "grid_template_rows": null,
      "height": null,
      "justify_content": null,
      "justify_items": null,
      "left": null,
      "margin": null,
      "max_height": null,
      "max_width": null,
      "min_height": null,
      "min_width": null,
      "object_fit": null,
      "object_position": null,
      "order": null,
      "overflow": null,
      "overflow_x": null,
      "overflow_y": null,
      "padding": null,
      "right": null,
      "top": null,
      "visibility": null,
      "width": null
     }
    },
    "1ef4873408da47aab5ca282af97ed0ed": {
     "model_module": "@jupyter-widgets/base",
     "model_module_version": "1.2.0",
     "model_name": "LayoutModel",
     "state": {
      "_model_module": "@jupyter-widgets/base",
      "_model_module_version": "1.2.0",
      "_model_name": "LayoutModel",
      "_view_count": null,
      "_view_module": "@jupyter-widgets/base",
      "_view_module_version": "1.2.0",
      "_view_name": "LayoutView",
      "align_content": null,
      "align_items": null,
      "align_self": null,
      "border": null,
      "bottom": null,
      "display": null,
      "flex": null,
      "flex_flow": null,
      "grid_area": null,
      "grid_auto_columns": null,
      "grid_auto_flow": null,
      "grid_auto_rows": null,
      "grid_column": null,
      "grid_gap": null,
      "grid_row": null,
      "grid_template_areas": null,
      "grid_template_columns": null,
      "grid_template_rows": null,
      "height": null,
      "justify_content": null,
      "justify_items": null,
      "left": null,
      "margin": null,
      "max_height": null,
      "max_width": null,
      "min_height": null,
      "min_width": null,
      "object_fit": null,
      "object_position": null,
      "order": null,
      "overflow": null,
      "overflow_x": null,
      "overflow_y": null,
      "padding": null,
      "right": null,
      "top": null,
      "visibility": null,
      "width": null
     }
    },
    "24bd4c3f719b460aa2d4df2a242d56aa": {
     "model_module": "@jupyter-widgets/base",
     "model_module_version": "1.2.0",
     "model_name": "LayoutModel",
     "state": {
      "_model_module": "@jupyter-widgets/base",
      "_model_module_version": "1.2.0",
      "_model_name": "LayoutModel",
      "_view_count": null,
      "_view_module": "@jupyter-widgets/base",
      "_view_module_version": "1.2.0",
      "_view_name": "LayoutView",
      "align_content": null,
      "align_items": null,
      "align_self": null,
      "border": null,
      "bottom": null,
      "display": null,
      "flex": null,
      "flex_flow": null,
      "grid_area": null,
      "grid_auto_columns": null,
      "grid_auto_flow": null,
      "grid_auto_rows": null,
      "grid_column": null,
      "grid_gap": null,
      "grid_row": null,
      "grid_template_areas": null,
      "grid_template_columns": null,
      "grid_template_rows": null,
      "height": null,
      "justify_content": null,
      "justify_items": null,
      "left": null,
      "margin": null,
      "max_height": null,
      "max_width": null,
      "min_height": null,
      "min_width": null,
      "object_fit": null,
      "object_position": null,
      "order": null,
      "overflow": null,
      "overflow_x": null,
      "overflow_y": null,
      "padding": null,
      "right": null,
      "top": null,
      "visibility": null,
      "width": null
     }
    },
    "27a3436f9f394b27b3bbcc54f44cf4fa": {
     "model_module": "@jupyter-widgets/controls",
     "model_module_version": "1.5.0",
     "model_name": "ProgressStyleModel",
     "state": {
      "_model_module": "@jupyter-widgets/controls",
      "_model_module_version": "1.5.0",
      "_model_name": "ProgressStyleModel",
      "_view_count": null,
      "_view_module": "@jupyter-widgets/base",
      "_view_module_version": "1.2.0",
      "_view_name": "StyleView",
      "bar_color": null,
      "description_width": ""
     }
    },
    "2e58eece4184454aac6df6542adf51df": {
     "model_module": "@jupyter-widgets/base",
     "model_module_version": "1.2.0",
     "model_name": "LayoutModel",
     "state": {
      "_model_module": "@jupyter-widgets/base",
      "_model_module_version": "1.2.0",
      "_model_name": "LayoutModel",
      "_view_count": null,
      "_view_module": "@jupyter-widgets/base",
      "_view_module_version": "1.2.0",
      "_view_name": "LayoutView",
      "align_content": null,
      "align_items": null,
      "align_self": null,
      "border": null,
      "bottom": null,
      "display": null,
      "flex": null,
      "flex_flow": null,
      "grid_area": null,
      "grid_auto_columns": null,
      "grid_auto_flow": null,
      "grid_auto_rows": null,
      "grid_column": null,
      "grid_gap": null,
      "grid_row": null,
      "grid_template_areas": null,
      "grid_template_columns": null,
      "grid_template_rows": null,
      "height": null,
      "justify_content": null,
      "justify_items": null,
      "left": null,
      "margin": null,
      "max_height": null,
      "max_width": null,
      "min_height": null,
      "min_width": null,
      "object_fit": null,
      "object_position": null,
      "order": null,
      "overflow": null,
      "overflow_x": null,
      "overflow_y": null,
      "padding": null,
      "right": null,
      "top": null,
      "visibility": null,
      "width": null
     }
    },
    "3a218a58a16548198fc4b43979f95028": {
     "model_module": "@jupyter-widgets/base",
     "model_module_version": "1.2.0",
     "model_name": "LayoutModel",
     "state": {
      "_model_module": "@jupyter-widgets/base",
      "_model_module_version": "1.2.0",
      "_model_name": "LayoutModel",
      "_view_count": null,
      "_view_module": "@jupyter-widgets/base",
      "_view_module_version": "1.2.0",
      "_view_name": "LayoutView",
      "align_content": null,
      "align_items": null,
      "align_self": null,
      "border": null,
      "bottom": null,
      "display": null,
      "flex": null,
      "flex_flow": null,
      "grid_area": null,
      "grid_auto_columns": null,
      "grid_auto_flow": null,
      "grid_auto_rows": null,
      "grid_column": null,
      "grid_gap": null,
      "grid_row": null,
      "grid_template_areas": null,
      "grid_template_columns": null,
      "grid_template_rows": null,
      "height": null,
      "justify_content": null,
      "justify_items": null,
      "left": null,
      "margin": null,
      "max_height": null,
      "max_width": null,
      "min_height": null,
      "min_width": null,
      "object_fit": null,
      "object_position": null,
      "order": null,
      "overflow": null,
      "overflow_x": null,
      "overflow_y": null,
      "padding": null,
      "right": null,
      "top": null,
      "visibility": null,
      "width": null
     }
    },
    "4d3ce23300124ec5a1e81c39de6bc041": {
     "model_module": "@jupyter-widgets/controls",
     "model_module_version": "1.5.0",
     "model_name": "HTMLModel",
     "state": {
      "_dom_classes": [],
      "_model_module": "@jupyter-widgets/controls",
      "_model_module_version": "1.5.0",
      "_model_name": "HTMLModel",
      "_view_count": null,
      "_view_module": "@jupyter-widgets/controls",
      "_view_module_version": "1.5.0",
      "_view_name": "HTMLView",
      "description": "",
      "description_tooltip": null,
      "layout": "IPY_MODEL_843d6578483a483bbf25b997dfbbfa4b",
      "placeholder": "​",
      "style": "IPY_MODEL_9da290ab4846444e918c50e6a0ab080b",
      "value": "100%"
     }
    },
    "52575668c5d8462d8dd7c81d7362c8ff": {
     "model_module": "@jupyter-widgets/controls",
     "model_module_version": "1.5.0",
     "model_name": "HTMLModel",
     "state": {
      "_dom_classes": [],
      "_model_module": "@jupyter-widgets/controls",
      "_model_module_version": "1.5.0",
      "_model_name": "HTMLModel",
      "_view_count": null,
      "_view_module": "@jupyter-widgets/controls",
      "_view_module_version": "1.5.0",
      "_view_name": "HTMLView",
      "description": "",
      "description_tooltip": null,
      "layout": "IPY_MODEL_3a218a58a16548198fc4b43979f95028",
      "placeholder": "​",
      "style": "IPY_MODEL_e3bddf4c3b3c4b9dbd47f9d5b2c7f843",
      "value": "100%"
     }
    },
    "531089951948426b9143825c4f388fe5": {
     "model_module": "@jupyter-widgets/controls",
     "model_module_version": "1.5.0",
     "model_name": "ProgressStyleModel",
     "state": {
      "_model_module": "@jupyter-widgets/controls",
      "_model_module_version": "1.5.0",
      "_model_name": "ProgressStyleModel",
      "_view_count": null,
      "_view_module": "@jupyter-widgets/base",
      "_view_module_version": "1.2.0",
      "_view_name": "StyleView",
      "bar_color": null,
      "description_width": ""
     }
    },
    "719d36cc23ea4a02a8b6dc9e7276d76b": {
     "model_module": "@jupyter-widgets/controls",
     "model_module_version": "1.5.0",
     "model_name": "DescriptionStyleModel",
     "state": {
      "_model_module": "@jupyter-widgets/controls",
      "_model_module_version": "1.5.0",
      "_model_name": "DescriptionStyleModel",
      "_view_count": null,
      "_view_module": "@jupyter-widgets/base",
      "_view_module_version": "1.2.0",
      "_view_name": "StyleView",
      "description_width": ""
     }
    },
    "79c31f473c4e4bf0b91c277da8298947": {
     "model_module": "@jupyter-widgets/controls",
     "model_module_version": "1.5.0",
     "model_name": "FloatProgressModel",
     "state": {
      "_dom_classes": [],
      "_model_module": "@jupyter-widgets/controls",
      "_model_module_version": "1.5.0",
      "_model_name": "FloatProgressModel",
      "_view_count": null,
      "_view_module": "@jupyter-widgets/controls",
      "_view_module_version": "1.5.0",
      "_view_name": "ProgressView",
      "bar_style": "success",
      "description": "",
      "description_tooltip": null,
      "layout": "IPY_MODEL_24bd4c3f719b460aa2d4df2a242d56aa",
      "max": 40450,
      "min": 0,
      "orientation": "horizontal",
      "style": "IPY_MODEL_531089951948426b9143825c4f388fe5",
      "value": 40450
     }
    },
    "843d6578483a483bbf25b997dfbbfa4b": {
     "model_module": "@jupyter-widgets/base",
     "model_module_version": "1.2.0",
     "model_name": "LayoutModel",
     "state": {
      "_model_module": "@jupyter-widgets/base",
      "_model_module_version": "1.2.0",
      "_model_name": "LayoutModel",
      "_view_count": null,
      "_view_module": "@jupyter-widgets/base",
      "_view_module_version": "1.2.0",
      "_view_name": "LayoutView",
      "align_content": null,
      "align_items": null,
      "align_self": null,
      "border": null,
      "bottom": null,
      "display": null,
      "flex": null,
      "flex_flow": null,
      "grid_area": null,
      "grid_auto_columns": null,
      "grid_auto_flow": null,
      "grid_auto_rows": null,
      "grid_column": null,
      "grid_gap": null,
      "grid_row": null,
      "grid_template_areas": null,
      "grid_template_columns": null,
      "grid_template_rows": null,
      "height": null,
      "justify_content": null,
      "justify_items": null,
      "left": null,
      "margin": null,
      "max_height": null,
      "max_width": null,
      "min_height": null,
      "min_width": null,
      "object_fit": null,
      "object_position": null,
      "order": null,
      "overflow": null,
      "overflow_x": null,
      "overflow_y": null,
      "padding": null,
      "right": null,
      "top": null,
      "visibility": null,
      "width": null
     }
    },
    "9b766fd248174f74b464544267fbcdad": {
     "model_module": "@jupyter-widgets/controls",
     "model_module_version": "1.5.0",
     "model_name": "HTMLModel",
     "state": {
      "_dom_classes": [],
      "_model_module": "@jupyter-widgets/controls",
      "_model_module_version": "1.5.0",
      "_model_name": "HTMLModel",
      "_view_count": null,
      "_view_module": "@jupyter-widgets/controls",
      "_view_module_version": "1.5.0",
      "_view_name": "HTMLView",
      "description": "",
      "description_tooltip": null,
      "layout": "IPY_MODEL_9c691b47d0894d75a6893e68111530f2",
      "placeholder": "​",
      "style": "IPY_MODEL_bd93a47eeb654d6eaa9b1c1329709fbb",
      "value": " 40450/40450 [00:00&lt;00:00, 261069.17it/s]"
     }
    },
    "9c691b47d0894d75a6893e68111530f2": {
     "model_module": "@jupyter-widgets/base",
     "model_module_version": "1.2.0",
     "model_name": "LayoutModel",
     "state": {
      "_model_module": "@jupyter-widgets/base",
      "_model_module_version": "1.2.0",
      "_model_name": "LayoutModel",
      "_view_count": null,
      "_view_module": "@jupyter-widgets/base",
      "_view_module_version": "1.2.0",
      "_view_name": "LayoutView",
      "align_content": null,
      "align_items": null,
      "align_self": null,
      "border": null,
      "bottom": null,
      "display": null,
      "flex": null,
      "flex_flow": null,
      "grid_area": null,
      "grid_auto_columns": null,
      "grid_auto_flow": null,
      "grid_auto_rows": null,
      "grid_column": null,
      "grid_gap": null,
      "grid_row": null,
      "grid_template_areas": null,
      "grid_template_columns": null,
      "grid_template_rows": null,
      "height": null,
      "justify_content": null,
      "justify_items": null,
      "left": null,
      "margin": null,
      "max_height": null,
      "max_width": null,
      "min_height": null,
      "min_width": null,
      "object_fit": null,
      "object_position": null,
      "order": null,
      "overflow": null,
      "overflow_x": null,
      "overflow_y": null,
      "padding": null,
      "right": null,
      "top": null,
      "visibility": null,
      "width": null
     }
    },
    "9da290ab4846444e918c50e6a0ab080b": {
     "model_module": "@jupyter-widgets/controls",
     "model_module_version": "1.5.0",
     "model_name": "DescriptionStyleModel",
     "state": {
      "_model_module": "@jupyter-widgets/controls",
      "_model_module_version": "1.5.0",
      "_model_name": "DescriptionStyleModel",
      "_view_count": null,
      "_view_module": "@jupyter-widgets/base",
      "_view_module_version": "1.2.0",
      "_view_name": "StyleView",
      "description_width": ""
     }
    },
    "9ddf9578065d409baefae1fe103c3634": {
     "model_module": "@jupyter-widgets/controls",
     "model_module_version": "1.5.0",
     "model_name": "HBoxModel",
     "state": {
      "_dom_classes": [],
      "_model_module": "@jupyter-widgets/controls",
      "_model_module_version": "1.5.0",
      "_model_name": "HBoxModel",
      "_view_count": null,
      "_view_module": "@jupyter-widgets/controls",
      "_view_module_version": "1.5.0",
      "_view_name": "HBoxView",
      "box_style": "",
      "children": [
       "IPY_MODEL_52575668c5d8462d8dd7c81d7362c8ff",
       "IPY_MODEL_a503dcb2dcc24f2a96d2bd8dd9f57c19",
       "IPY_MODEL_9b766fd248174f74b464544267fbcdad"
      ],
      "layout": "IPY_MODEL_1bfa2f10d40345bf892a24fb952b30b8"
     }
    },
    "a0b88230324645f1bf71540f0e2a5eeb": {
     "model_module": "@jupyter-widgets/controls",
     "model_module_version": "1.5.0",
     "model_name": "HTMLModel",
     "state": {
      "_dom_classes": [],
      "_model_module": "@jupyter-widgets/controls",
      "_model_module_version": "1.5.0",
      "_model_name": "HTMLModel",
      "_view_count": null,
      "_view_module": "@jupyter-widgets/controls",
      "_view_module_version": "1.5.0",
      "_view_name": "HTMLView",
      "description": "",
      "description_tooltip": null,
      "layout": "IPY_MODEL_2e58eece4184454aac6df6542adf51df",
      "placeholder": "​",
      "style": "IPY_MODEL_719d36cc23ea4a02a8b6dc9e7276d76b",
      "value": " 40450/40450 [00:00&lt;00:00, 228621.71it/s]"
     }
    },
    "a503dcb2dcc24f2a96d2bd8dd9f57c19": {
     "model_module": "@jupyter-widgets/controls",
     "model_module_version": "1.5.0",
     "model_name": "FloatProgressModel",
     "state": {
      "_dom_classes": [],
      "_model_module": "@jupyter-widgets/controls",
      "_model_module_version": "1.5.0",
      "_model_name": "FloatProgressModel",
      "_view_count": null,
      "_view_module": "@jupyter-widgets/controls",
      "_view_module_version": "1.5.0",
      "_view_name": "ProgressView",
      "bar_style": "success",
      "description": "",
      "description_tooltip": null,
      "layout": "IPY_MODEL_d657fcac1aeb416bbb2d9d0e5b570cf4",
      "max": 40450,
      "min": 0,
      "orientation": "horizontal",
      "style": "IPY_MODEL_27a3436f9f394b27b3bbcc54f44cf4fa",
      "value": 40450
     }
    },
    "bd93a47eeb654d6eaa9b1c1329709fbb": {
     "model_module": "@jupyter-widgets/controls",
     "model_module_version": "1.5.0",
     "model_name": "DescriptionStyleModel",
     "state": {
      "_model_module": "@jupyter-widgets/controls",
      "_model_module_version": "1.5.0",
      "_model_name": "DescriptionStyleModel",
      "_view_count": null,
      "_view_module": "@jupyter-widgets/base",
      "_view_module_version": "1.2.0",
      "_view_name": "StyleView",
      "description_width": ""
     }
    },
    "d35c3ef6ef054bb49ed2b4328baa55fc": {
     "model_module": "@jupyter-widgets/controls",
     "model_module_version": "1.5.0",
     "model_name": "HBoxModel",
     "state": {
      "_dom_classes": [],
      "_model_module": "@jupyter-widgets/controls",
      "_model_module_version": "1.5.0",
      "_model_name": "HBoxModel",
      "_view_count": null,
      "_view_module": "@jupyter-widgets/controls",
      "_view_module_version": "1.5.0",
      "_view_name": "HBoxView",
      "box_style": "",
      "children": [
       "IPY_MODEL_4d3ce23300124ec5a1e81c39de6bc041",
       "IPY_MODEL_79c31f473c4e4bf0b91c277da8298947",
       "IPY_MODEL_a0b88230324645f1bf71540f0e2a5eeb"
      ],
      "layout": "IPY_MODEL_1ef4873408da47aab5ca282af97ed0ed"
     }
    },
    "d657fcac1aeb416bbb2d9d0e5b570cf4": {
     "model_module": "@jupyter-widgets/base",
     "model_module_version": "1.2.0",
     "model_name": "LayoutModel",
     "state": {
      "_model_module": "@jupyter-widgets/base",
      "_model_module_version": "1.2.0",
      "_model_name": "LayoutModel",
      "_view_count": null,
      "_view_module": "@jupyter-widgets/base",
      "_view_module_version": "1.2.0",
      "_view_name": "LayoutView",
      "align_content": null,
      "align_items": null,
      "align_self": null,
      "border": null,
      "bottom": null,
      "display": null,
      "flex": null,
      "flex_flow": null,
      "grid_area": null,
      "grid_auto_columns": null,
      "grid_auto_flow": null,
      "grid_auto_rows": null,
      "grid_column": null,
      "grid_gap": null,
      "grid_row": null,
      "grid_template_areas": null,
      "grid_template_columns": null,
      "grid_template_rows": null,
      "height": null,
      "justify_content": null,
      "justify_items": null,
      "left": null,
      "margin": null,
      "max_height": null,
      "max_width": null,
      "min_height": null,
      "min_width": null,
      "object_fit": null,
      "object_position": null,
      "order": null,
      "overflow": null,
      "overflow_x": null,
      "overflow_y": null,
      "padding": null,
      "right": null,
      "top": null,
      "visibility": null,
      "width": null
     }
    },
    "e3bddf4c3b3c4b9dbd47f9d5b2c7f843": {
     "model_module": "@jupyter-widgets/controls",
     "model_module_version": "1.5.0",
     "model_name": "DescriptionStyleModel",
     "state": {
      "_model_module": "@jupyter-widgets/controls",
      "_model_module_version": "1.5.0",
      "_model_name": "DescriptionStyleModel",
      "_view_count": null,
      "_view_module": "@jupyter-widgets/base",
      "_view_module_version": "1.2.0",
      "_view_name": "StyleView",
      "description_width": ""
     }
    }
   }
  }
 },
 "nbformat": 4,
 "nbformat_minor": 1
}
